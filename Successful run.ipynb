{
 "cells": [
  {
   "cell_type": "code",
   "execution_count": 1,
   "metadata": {},
   "outputs": [
    {
     "name": "stdout",
     "output_type": "stream",
     "text": [
      "c:\\Users\\okan2\\Desktop\\Seminar\\Code\\AgentsAndDragons\n"
     ]
    }
   ],
   "source": [
    "from Player import Player\n",
    "from Battle import Battle\n",
    "from Monster import Monster\n",
    "import time, json\n",
    "import pandas as pd\n",
    "from openai import OpenAI\n",
    "import os\n",
    "\n",
    "print(os.getcwd())"
   ]
  },
  {
   "cell_type": "code",
   "execution_count": 2,
   "metadata": {},
   "outputs": [
    {
     "name": "stdout",
     "output_type": "stream",
     "text": [
      "A Slime draws near!\n",
      "\n",
      "Mage's HP: 120/120 | MP: 50/50\n",
      "\n",
      "Slime's HP: 150/150\n",
      "\n",
      "What will you do?\n"
     ]
    },
    {
     "data": {
      "text/plain": [
       "\"A Slime draws near!\\nMage's HP: 120/120 | MP: 50/50\\nSlime's HP: 150/150\\nWhat will you do?\""
      ]
     },
     "execution_count": 2,
     "metadata": {},
     "output_type": "execute_result"
    }
   ],
   "source": [
    "magePlayer = Player(\"Mage\", 120, 50, 25, pd.read_excel(\"Abilities.xlsx\"))\n",
    "players = [magePlayer]\n",
    "#monster = Monster(\"Slime\", 200, 200, 10, weaknesses=[\"Lightning\"])\n",
    "monster = Monster(\"Slime\", 150, 150, 20, weaknesses=[\"Fire\"])\n",
    "\n",
    "\n",
    "b = Battle(players, monster)\n",
    "b.battlePrint"
   ]
  },
  {
   "cell_type": "code",
   "execution_count": 3,
   "metadata": {},
   "outputs": [],
   "source": [
    "from apiKey import key"
   ]
  },
  {
   "cell_type": "markdown",
   "metadata": {},
   "source": [
    "## AUTOGEN"
   ]
  },
  {
   "cell_type": "code",
   "execution_count": 4,
   "metadata": {},
   "outputs": [],
   "source": [
    "from autogen.oai.openai_utils import retrieve_assistants_by_name\n",
    "from autogen import ConversableAgent, UserProxyAgent\n",
    "from autogen.agentchat.contrib.retrieve_assistant_agent import RetrieveAssistantAgent\n",
    "from autogen.agentchat.contrib.retrieve_user_proxy_agent import RetrieveUserProxyAgent\n",
    "from autogen.retrieve_utils import TEXT_FORMATS\n",
    "from typing_extensions import Annotated"
   ]
  },
  {
   "cell_type": "markdown",
   "metadata": {},
   "source": [
    "Agent Definitions"
   ]
  },
  {
   "cell_type": "code",
   "execution_count": 5,
   "metadata": {},
   "outputs": [],
   "source": [
    "mageAgent = RetrieveAssistantAgent(\n",
    "    name=\"Mage\",\n",
    "    llm_config={\"config_list\": [{\"model\": \"gpt-3.5-turbo\", \"temperature\": 1, \"api_key\": key}],\n",
    "    },\n",
    "    system_message=\"You are an AI assistant taking the role of a mage fighting a turn-based battle against an enemy.\"\n",
    "    \"You are fighting the battle with a partner warrior. He may ask you inbetween turns to discuss the next actions to take. In this case, \"\n",
    "    \"try to elaborate on the situation and say what you think the best course of action would be.\"\n",
    "    \"Remember the advice your teammate gives you when choosing your next action.\"\n",
    "    \"While you are having a conversation with your partner about the enemy, only talk to each other, do not call any functions or tools. \"\n",
    "    \n",
    "    \"Outside of the conversation with your partner, you will interact with the battle in the following way:\"\n",
    "    \"1. You will be presented with the state of the battle with the participants HP and MP values as well as everything that has happened previously.\"\n",
    "    \"2. When you are asked what you will do, you have to decide and choose the action you will enter for this turn.\"\n",
    "    \"3. First, call the function mageListAbilities to get a list of abilities available to you.\"\n",
    "    \"4. Then you will choose an ability from the list and call the function mageAbility with the name of the ability as the parameter.\"\n",
    "    \"Only call the function mageAbility once per turn.\"\n",
    "    \"The goal is to deal as much damage as possible to the enemy. Consider the damage multipliers and the attributes when choosing an ability.\"\n",
    "    \"Enemies can have weaknesses to certain attributes.\"\n",
    "    \"For example, if you know that a slime is weak to lightning, you should use Lightning Bolt instead of Fireball, even if Fireball has a higher multiplier.\"\n",
    "    \"If you have not encountered an enemy before, you do not know any weaknesses. Try out all of your abilities until you land a critical hit.\"\n",
    "    \"If the ability does not land a critical hit, you know that the enemy is not weak to the attribute of the ability you used. Try another ability in this case.\"\n",
    "    \"If you realize that one of your abilities has dealt critical damage to an enemy, you have discovered a new weakness of that enemy.\"\n",
    "    \"Be sure to remember it for the next turns and reuse it in the following turns.\"\n",
    "    \"Lay out your plan of action before executing it. Break down each step in your consideration.\"\n",
    "    \"Do not ask for any human input and execute all your decisions by calling functions every turn until the battle ends.\"\n",
    "    \"Do not ask questions while formulating your plan of action.\"\n",
    "    \"If you decide to call a function do not forget to execute the corresponding python code aswell.\"\n",
    "    \"If you run out of mana, you can either use another ability with lower mana costs or, if you cannot use any other abilities, use a simple attack with the function mageAttack, since a simple attack does not use any MP.\"\n",
    "    \"Instead of using an ability or attacking, you may also defend with the function mageDefend. This will protect you from some damage.\"\n",
    "    \"Repeat the above steps as long as the battle has not ended. The battle is only over if you receive a message about either Victory or Defeat.\"\n",
    "    \"There will be no termination until the enemy is defeated. Always move forward with your actions, do not wait and do not ask for any human input.\"\n",
    "    \"This means, if you decide to choose a specific ability, immediately call the corresponding function.\"\n",
    "    #\"Always continue the battle until it is over. Do not terminate until the battle is over.\"\n",
    "    \"When the battle ends, reply with TERMINATE.\"\n",
    ")"
   ]
  },
  {
   "cell_type": "code",
   "execution_count": 6,
   "metadata": {},
   "outputs": [
    {
     "name": "stderr",
     "output_type": "stream",
     "text": [
      "c:\\Users\\okan2\\anaconda3\\envs\\AgentsAndDragons\\Lib\\site-packages\\tqdm\\auto.py:21: TqdmWarning: IProgress not found. Please update jupyter and ipywidgets. See https://ipywidgets.readthedocs.io/en/stable/user_install.html\n",
      "  from .autonotebook import tqdm as notebook_tqdm\n"
     ]
    }
   ],
   "source": [
    "ragproxyagent = RetrieveUserProxyAgent(\n",
    "    name=\"ragproxyagent\",\n",
    "    human_input_mode=\"NEVER\",\n",
    "    default_auto_reply=\"Ok\",\n",
    "    max_consecutive_auto_reply=20,\n",
    "    retrieve_config={\n",
    "        \"docs_path\": [\n",
    "            \"Abilities.csv\"\n",
    "        ],\n",
    "        \"embedding_model\": \"all-mpnet-base-v2\",\n",
    "        \"get_or_create\": True,\n",
    "        \"last_n_messages\" : 1\n",
    "    },\n",
    "    is_termination_msg=lambda x: x.get(\"content\", \"\") and x.get(\"content\", \"\").rstrip().endswith(\"TERMINATE\"),\n",
    "    code_execution_config={\n",
    "        \"work_dir\": os.getcwd(),\n",
    "        \"use_docker\": False,\n",
    "    },  # set to False if you don't want to execute the code\n",
    "    \n",
    ")"
   ]
  },
  {
   "cell_type": "markdown",
   "metadata": {},
   "source": [
    "Mage Abilities"
   ]
  },
  {
   "cell_type": "code",
   "execution_count": 7,
   "metadata": {},
   "outputs": [],
   "source": [
    "mageAbilityCounter = {\"attack\" : 0,\n",
    "                      \"abilityList\" : 0,\n",
    "                      \"ability\" : 0,\n",
    "                      \"defend\" : 0\n",
    "                      }"
   ]
  },
  {
   "cell_type": "code",
   "execution_count": 8,
   "metadata": {},
   "outputs": [],
   "source": [
    "\n",
    "@ragproxyagent.register_for_execution()\n",
    "@mageAgent.register_for_llm(name=\"mageListAbilities\", description=\"Returns a dataframe with details of the mages abilities\")\n",
    "def mageListAbilities() -> pd.DataFrame:\n",
    "    mageAbilityCounter[\"abilityList\"] += 1\n",
    "    return pd.read_csv(\"Abilities.csv\", sep=\";\").to_json()\n",
    "\n",
    "# @group_chat_manager.register_for_execution()\n",
    "@ragproxyagent.register_for_execution()\n",
    "@mageAgent.register_for_llm(name=\"mageAbility\", description=\"Execute the ability of the mage\")\n",
    "def mageAbility(name : Annotated[str, \"Name of the used ability\"]) -> str:\n",
    "    b.enterAbility(magePlayer, name)\n",
    "    mageAbilityCounter[\"ability\"] += 1\n",
    "    return b.battlePrint\n",
    "\n",
    "# @group_chat_manager.register_for_execution()\n",
    "@ragproxyagent.register_for_execution()\n",
    "@mageAgent.register_for_llm(name=\"mageAttack\", description=\"Attack the enemy\")\n",
    "def mageAttack() -> str:\n",
    "    b.enterAttack(magePlayer)\n",
    "    mageAbilityCounter[\"attack\"] += 1\n",
    "    return b.battlePrint\n",
    "\n",
    "# @group_chat_manager.register_for_execution()\n",
    "@ragproxyagent.register_for_execution()\n",
    "@mageAgent.register_for_llm(name=\"mageDefend\", description=\"Defends against incoming attacks\")\n",
    "def mageAttack() -> str:\n",
    "    b.enterDefend(magePlayer)\n",
    "    mageAbilityCounter[\"defend\"] += 1\n",
    "    return b.battlePrint"
   ]
  },
  {
   "cell_type": "markdown",
   "metadata": {},
   "source": [
    "Chat Initiation"
   ]
  },
  {
   "cell_type": "code",
   "execution_count": 9,
   "metadata": {},
   "outputs": [
    {
     "name": "stdout",
     "output_type": "stream",
     "text": [
      "\u001b[33mragproxyagent\u001b[0m (to Mage):\n",
      "\n",
      "A Slime draws near!\n",
      "Mage's HP: 120/120 | MP: 50/50\n",
      "Slime's HP: 150/150\n",
      "What will you do?\n",
      "\n",
      "--------------------------------------------------------------------------------\n",
      "\u001b[33mMage\u001b[0m (to ragproxyagent):\n",
      "\n",
      "\u001b[32m***** Suggested tool call (call_rvqKheHwxCYmLxK7qG7p3SDB): mageListAbilities *****\u001b[0m\n",
      "Arguments: \n",
      "{}\n",
      "\u001b[32m**********************************************************************************\u001b[0m\n",
      "\n",
      "--------------------------------------------------------------------------------\n",
      "\u001b[35m\n",
      ">>>>>>>> EXECUTING FUNCTION mageListAbilities...\u001b[0m\n"
     ]
    },
    {
     "name": "stderr",
     "output_type": "stream",
     "text": [
      "[runtime logging] log_function_use: autogen logger is None\n"
     ]
    },
    {
     "name": "stdout",
     "output_type": "stream",
     "text": [
      "\u001b[33mragproxyagent\u001b[0m (to Mage):\n",
      "\n",
      "\u001b[33mragproxyagent\u001b[0m (to Mage):\n",
      "\n",
      "\u001b[32m***** Response from calling tool (call_rvqKheHwxCYmLxK7qG7p3SDB) *****\u001b[0m\n",
      "{\"Name\":{\"0\":\"Fireball\",\"1\":\"Lightning Bolt\",\"2\":\"Icecicle\",\"3\":\"Dark Obliteration\",\"4\":\"Inferno\",\"5\":\"Magic Explosion\"},\"Description\":{\"0\":\"Shoots a small fireball at the enemy\",\"1\":\"Zaps the enemy with the power of lightning\",\"2\":\"Drops an icecicle on the enemy from above\",\"3\":\"Conjures shadows to crush foes, inflicting heavy damage.\",\"4\":\"Engulfs enemies in flames, causing widespread damage.\",\"5\":\"Creates a huge explosion using the full power of the user's magic.\"},\"Damage Multiplier\":{\"0\":\"1,10\",\"1\":\"1,05\",\"2\":\"1,10\",\"3\":\"2,00\",\"4\":\"1,50\",\"5\":\"2,50\"},\"Attributes\":{\"0\":\"Fire\",\"1\":\"Lightning\",\"2\":\"Ice\",\"3\":\"Dark\",\"4\":\"Fire\",\"5\":\"Light\"},\"Cost\":{\"0\":5,\"1\":10,\"2\":8,\"3\":30,\"4\":20,\"5\":50}}\n",
      "\u001b[32m**********************************************************************\u001b[0m\n",
      "\n",
      "--------------------------------------------------------------------------------\n",
      "\u001b[33mMage\u001b[0m (to ragproxyagent):\n",
      "\n",
      "The Slime seems to have no known weaknesses at the moment. We have a variety of abilities we can use:\n",
      "\n",
      "1. Fireball (Fire) - Damage Multiplier: 1.10 - Cost: 5 MP\n",
      "2. Lightning Bolt (Lightning) - Damage Multiplier: 1.05 - Cost: 10 MP\n",
      "3. Icecicle (Ice) - Damage Multiplier: 1.10 - Cost: 8 MP\n",
      "4. Dark Obliteration (Dark) - Damage Multiplier: 2.00 - Cost: 30 MP\n",
      "5. Inferno (Fire) - Damage Multiplier: 1.50 - Cost: 20 MP\n",
      "6. Magic Explosion (Light) - Damage Multiplier: 2.50 - Cost: 50 MP\n",
      "\n",
      "Given the MP cost and the Slime's current HP, I suggest we start with abilities that have lower MP costs to assess the situation. What do you think, partner?\n",
      "\n",
      "--------------------------------------------------------------------------------\n",
      "\u001b[33mragproxyagent\u001b[0m (to Mage):\n",
      "\n",
      "Ok\n",
      "\n",
      "--------------------------------------------------------------------------------\n",
      "\u001b[33mMage\u001b[0m (to ragproxyagent):\n",
      "\n",
      "\u001b[32m***** Suggested tool call (call_OK9ST7J4Kjmnyp0Av6Ak6xzB): mageAbility *****\u001b[0m\n",
      "Arguments: \n",
      "{\"name\":\"Fireball\"}\n",
      "\u001b[32m****************************************************************************\u001b[0m\n",
      "\n",
      "--------------------------------------------------------------------------------\n",
      "\u001b[35m\n",
      ">>>>>>>> EXECUTING FUNCTION mageAbility...\u001b[0m\n"
     ]
    },
    {
     "name": "stderr",
     "output_type": "stream",
     "text": [
      "[runtime logging] log_function_use: autogen logger is None\n"
     ]
    },
    {
     "name": "stdout",
     "output_type": "stream",
     "text": [
      "Mage has selected Fireball\n",
      "\n",
      "Mage's turn:Mage uses Fireball! Mage deals 36.300000000000004 critical damage to Slime! Slime is weak to Fire!\n",
      "Monster's turn:Slime attacks! Slime deals 17 damage to Mage!\n",
      "\n",
      "Mage's HP: 103/120 | MP: 45/50\n",
      "\n",
      "Slime's HP: 113.69999999999999/150\n",
      "\n",
      "What will you do?\n",
      "Turn executed\n",
      "\u001b[33mragproxyagent\u001b[0m (to Mage):\n",
      "\n",
      "\u001b[33mragproxyagent\u001b[0m (to Mage):\n",
      "\n",
      "\u001b[32m***** Response from calling tool (call_OK9ST7J4Kjmnyp0Av6Ak6xzB) *****\u001b[0m\n",
      "\n",
      "Mage's turn:Mage uses Fireball! Mage deals 36.300000000000004 critical damage to Slime! Slime is weak to Fire!\n",
      "Monster's turn:Slime attacks! Slime deals 17 damage to Mage!\n",
      "Mage's HP: 103/120 | MP: 45/50\n",
      "Slime's HP: 113.69999999999999/150\n",
      "What will you do?\n",
      "\u001b[32m**********************************************************************\u001b[0m\n",
      "\n",
      "--------------------------------------------------------------------------------\n",
      "\u001b[33mMage\u001b[0m (to ragproxyagent):\n",
      "\n",
      "Great news! The Slime is weak to Fire. I will continue to exploit this weakness by using Fireball again. Let's keep the pressure on.\n",
      "\n",
      "--------------------------------------------------------------------------------\n",
      "\u001b[33mragproxyagent\u001b[0m (to Mage):\n",
      "\n",
      "Ok\n",
      "\n",
      "--------------------------------------------------------------------------------\n",
      "\u001b[33mMage\u001b[0m (to ragproxyagent):\n",
      "\n",
      "\u001b[32m***** Suggested tool call (call_7L5U0D7s1sDHbxB4XSwxNz69): mageAbility *****\u001b[0m\n",
      "Arguments: \n",
      "{\"name\":\"Fireball\"}\n",
      "\u001b[32m****************************************************************************\u001b[0m\n",
      "\n",
      "--------------------------------------------------------------------------------\n",
      "\u001b[35m\n",
      ">>>>>>>> EXECUTING FUNCTION mageAbility...\u001b[0m\n"
     ]
    },
    {
     "name": "stderr",
     "output_type": "stream",
     "text": [
      "[runtime logging] log_function_use: autogen logger is None\n"
     ]
    },
    {
     "name": "stdout",
     "output_type": "stream",
     "text": [
      "Mage has selected Fireball\n",
      "\n",
      "Mage's turn:Mage uses Fireball! Mage deals 47.85 critical damage to Slime! Slime is weak to Fire!\n",
      "Monster's turn:Slime attacks! Slime deals 21 damage to Mage!\n",
      "\n",
      "Mage's HP: 82/120 | MP: 40/50\n",
      "\n",
      "Slime's HP: 65.85/150\n",
      "\n",
      "What will you do?\n",
      "Turn executed\n",
      "\u001b[33mragproxyagent\u001b[0m (to Mage):\n",
      "\n",
      "\u001b[33mragproxyagent\u001b[0m (to Mage):\n",
      "\n",
      "\u001b[32m***** Response from calling tool (call_7L5U0D7s1sDHbxB4XSwxNz69) *****\u001b[0m\n",
      "\n",
      "Mage's turn:Mage uses Fireball! Mage deals 47.85 critical damage to Slime! Slime is weak to Fire!\n",
      "Monster's turn:Slime attacks! Slime deals 21 damage to Mage!\n",
      "Mage's HP: 82/120 | MP: 40/50\n",
      "Slime's HP: 65.85/150\n",
      "What will you do?\n",
      "\u001b[32m**********************************************************************\u001b[0m\n",
      "\n",
      "--------------------------------------------------------------------------------\n",
      "\u001b[33mMage\u001b[0m (to ragproxyagent):\n",
      "\n",
      "The Fireball is proving very effective against the Slime's weakness to fire. I will use Fireball again to take advantage of this weakness and deal more damage. Let's keep the momentum going.\n",
      "\u001b[32m***** Suggested tool call (call_q43aINXfOgQPOeincXpXUteb): mageAbility *****\u001b[0m\n",
      "Arguments: \n",
      "{\"name\":\"Fireball\"}\n",
      "\u001b[32m****************************************************************************\u001b[0m\n",
      "\n",
      "--------------------------------------------------------------------------------\n",
      "\u001b[35m\n",
      ">>>>>>>> EXECUTING FUNCTION mageAbility...\u001b[0m\n"
     ]
    },
    {
     "name": "stderr",
     "output_type": "stream",
     "text": [
      "[runtime logging] log_function_use: autogen logger is None\n"
     ]
    },
    {
     "name": "stdout",
     "output_type": "stream",
     "text": [
      "Mage has selected Fireball\n",
      "\n",
      "Mage's turn:Mage uses Fireball! Mage deals 42.900000000000006 critical damage to Slime! Slime is weak to Fire!\n",
      "Monster's turn:Slime attacks! Slime deals 18 damage to Mage!\n",
      "\n",
      "Mage's HP: 64/120 | MP: 35/50\n",
      "\n",
      "Slime's HP: 22.94999999999999/150\n",
      "\n",
      "What will you do?\n",
      "Turn executed\n",
      "\u001b[33mragproxyagent\u001b[0m (to Mage):\n",
      "\n",
      "\u001b[33mragproxyagent\u001b[0m (to Mage):\n",
      "\n",
      "\u001b[32m***** Response from calling tool (call_q43aINXfOgQPOeincXpXUteb) *****\u001b[0m\n",
      "\n",
      "Mage's turn:Mage uses Fireball! Mage deals 42.900000000000006 critical damage to Slime! Slime is weak to Fire!\n",
      "Monster's turn:Slime attacks! Slime deals 18 damage to Mage!\n",
      "Mage's HP: 64/120 | MP: 35/50\n",
      "Slime's HP: 22.94999999999999/150\n",
      "What will you do?\n",
      "\u001b[32m**********************************************************************\u001b[0m\n",
      "\n",
      "--------------------------------------------------------------------------------\n",
      "\u001b[33mMage\u001b[0m (to ragproxyagent):\n",
      "\n",
      "The Slime is still weak to Fire, so I will continue to exploit this weakness by using Fireball once more. Let's finish off the Slime with its weakness.\n",
      "\u001b[32m***** Suggested tool call (call_6NRDbgMrKhOv9CGeP2ZOF0FX): mageAbility *****\u001b[0m\n",
      "Arguments: \n",
      "{\"name\":\"Fireball\"}\n",
      "\u001b[32m****************************************************************************\u001b[0m\n",
      "\n",
      "--------------------------------------------------------------------------------\n",
      "\u001b[35m\n",
      ">>>>>>>> EXECUTING FUNCTION mageAbility...\u001b[0m\n"
     ]
    },
    {
     "name": "stderr",
     "output_type": "stream",
     "text": [
      "[runtime logging] log_function_use: autogen logger is None\n"
     ]
    },
    {
     "name": "stdout",
     "output_type": "stream",
     "text": [
      "Mage has selected Fireball\n",
      "\n",
      "Mage's turn:Mage uses Fireball! Mage deals 37.95 critical damage to Slime! Slime is weak to Fire!\n",
      "\n",
      "Mage's HP: 64/120 | MP: 30/50\n",
      "\n",
      "Slime's HP: 0/150\n",
      "\n",
      "\n",
      "Victory! Mage defeated Slime!\n",
      "Turn executed\n",
      "\u001b[33mragproxyagent\u001b[0m (to Mage):\n",
      "\n",
      "\u001b[33mragproxyagent\u001b[0m (to Mage):\n",
      "\n",
      "\u001b[32m***** Response from calling tool (call_6NRDbgMrKhOv9CGeP2ZOF0FX) *****\u001b[0m\n",
      "\n",
      "Mage's turn:Mage uses Fireball! Mage deals 37.95 critical damage to Slime! Slime is weak to Fire!\n",
      "Mage's HP: 64/120 | MP: 30/50\n",
      "Slime's HP: 0/150\n",
      "\n",
      "Victory! Mage defeated Slime!\n",
      "\u001b[32m**********************************************************************\u001b[0m\n",
      "\n",
      "--------------------------------------------------------------------------------\n",
      "\u001b[33mMage\u001b[0m (to ragproxyagent):\n",
      "\n",
      "TERMINATE\n",
      "\n",
      "--------------------------------------------------------------------------------\n",
      "ChatResult(chat_id=None, chat_history=[{'content': \"A Slime draws near!\\nMage's HP: 120/120 | MP: 50/50\\nSlime's HP: 150/150\\nWhat will you do?\", 'role': 'assistant'}, {'tool_calls': [{'id': 'call_rvqKheHwxCYmLxK7qG7p3SDB', 'function': {'arguments': '{}', 'name': 'mageListAbilities'}, 'type': 'function'}], 'content': None, 'role': 'assistant'}, {'content': '{\"Name\":{\"0\":\"Fireball\",\"1\":\"Lightning Bolt\",\"2\":\"Icecicle\",\"3\":\"Dark Obliteration\",\"4\":\"Inferno\",\"5\":\"Magic Explosion\"},\"Description\":{\"0\":\"Shoots a small fireball at the enemy\",\"1\":\"Zaps the enemy with the power of lightning\",\"2\":\"Drops an icecicle on the enemy from above\",\"3\":\"Conjures shadows to crush foes, inflicting heavy damage.\",\"4\":\"Engulfs enemies in flames, causing widespread damage.\",\"5\":\"Creates a huge explosion using the full power of the user\\'s magic.\"},\"Damage Multiplier\":{\"0\":\"1,10\",\"1\":\"1,05\",\"2\":\"1,10\",\"3\":\"2,00\",\"4\":\"1,50\",\"5\":\"2,50\"},\"Attributes\":{\"0\":\"Fire\",\"1\":\"Lightning\",\"2\":\"Ice\",\"3\":\"Dark\",\"4\":\"Fire\",\"5\":\"Light\"},\"Cost\":{\"0\":5,\"1\":10,\"2\":8,\"3\":30,\"4\":20,\"5\":50}}', 'tool_responses': [{'tool_call_id': 'call_rvqKheHwxCYmLxK7qG7p3SDB', 'role': 'tool', 'content': '{\"Name\":{\"0\":\"Fireball\",\"1\":\"Lightning Bolt\",\"2\":\"Icecicle\",\"3\":\"Dark Obliteration\",\"4\":\"Inferno\",\"5\":\"Magic Explosion\"},\"Description\":{\"0\":\"Shoots a small fireball at the enemy\",\"1\":\"Zaps the enemy with the power of lightning\",\"2\":\"Drops an icecicle on the enemy from above\",\"3\":\"Conjures shadows to crush foes, inflicting heavy damage.\",\"4\":\"Engulfs enemies in flames, causing widespread damage.\",\"5\":\"Creates a huge explosion using the full power of the user\\'s magic.\"},\"Damage Multiplier\":{\"0\":\"1,10\",\"1\":\"1,05\",\"2\":\"1,10\",\"3\":\"2,00\",\"4\":\"1,50\",\"5\":\"2,50\"},\"Attributes\":{\"0\":\"Fire\",\"1\":\"Lightning\",\"2\":\"Ice\",\"3\":\"Dark\",\"4\":\"Fire\",\"5\":\"Light\"},\"Cost\":{\"0\":5,\"1\":10,\"2\":8,\"3\":30,\"4\":20,\"5\":50}}'}], 'role': 'tool'}, {'content': \"The Slime seems to have no known weaknesses at the moment. We have a variety of abilities we can use:\\n\\n1. Fireball (Fire) - Damage Multiplier: 1.10 - Cost: 5 MP\\n2. Lightning Bolt (Lightning) - Damage Multiplier: 1.05 - Cost: 10 MP\\n3. Icecicle (Ice) - Damage Multiplier: 1.10 - Cost: 8 MP\\n4. Dark Obliteration (Dark) - Damage Multiplier: 2.00 - Cost: 30 MP\\n5. Inferno (Fire) - Damage Multiplier: 1.50 - Cost: 20 MP\\n6. Magic Explosion (Light) - Damage Multiplier: 2.50 - Cost: 50 MP\\n\\nGiven the MP cost and the Slime's current HP, I suggest we start with abilities that have lower MP costs to assess the situation. What do you think, partner?\", 'role': 'user'}, {'content': 'Ok', 'role': 'assistant'}, {'tool_calls': [{'id': 'call_OK9ST7J4Kjmnyp0Av6Ak6xzB', 'function': {'arguments': '{\"name\":\"Fireball\"}', 'name': 'mageAbility'}, 'type': 'function'}], 'content': None, 'role': 'assistant'}, {'content': \"\\nMage's turn:Mage uses Fireball! Mage deals 36.300000000000004 critical damage to Slime! Slime is weak to Fire!\\nMonster's turn:Slime attacks! Slime deals 17 damage to Mage!\\nMage's HP: 103/120 | MP: 45/50\\nSlime's HP: 113.69999999999999/150\\nWhat will you do?\", 'tool_responses': [{'tool_call_id': 'call_OK9ST7J4Kjmnyp0Av6Ak6xzB', 'role': 'tool', 'content': \"\\nMage's turn:Mage uses Fireball! Mage deals 36.300000000000004 critical damage to Slime! Slime is weak to Fire!\\nMonster's turn:Slime attacks! Slime deals 17 damage to Mage!\\nMage's HP: 103/120 | MP: 45/50\\nSlime's HP: 113.69999999999999/150\\nWhat will you do?\"}], 'role': 'tool'}, {'content': \"Great news! The Slime is weak to Fire. I will continue to exploit this weakness by using Fireball again. Let's keep the pressure on.\", 'role': 'user'}, {'content': 'Ok', 'role': 'assistant'}, {'tool_calls': [{'id': 'call_7L5U0D7s1sDHbxB4XSwxNz69', 'function': {'arguments': '{\"name\":\"Fireball\"}', 'name': 'mageAbility'}, 'type': 'function'}], 'content': None, 'role': 'assistant'}, {'content': \"\\nMage's turn:Mage uses Fireball! Mage deals 47.85 critical damage to Slime! Slime is weak to Fire!\\nMonster's turn:Slime attacks! Slime deals 21 damage to Mage!\\nMage's HP: 82/120 | MP: 40/50\\nSlime's HP: 65.85/150\\nWhat will you do?\", 'tool_responses': [{'tool_call_id': 'call_7L5U0D7s1sDHbxB4XSwxNz69', 'role': 'tool', 'content': \"\\nMage's turn:Mage uses Fireball! Mage deals 47.85 critical damage to Slime! Slime is weak to Fire!\\nMonster's turn:Slime attacks! Slime deals 21 damage to Mage!\\nMage's HP: 82/120 | MP: 40/50\\nSlime's HP: 65.85/150\\nWhat will you do?\"}], 'role': 'tool'}, {'content': \"The Fireball is proving very effective against the Slime's weakness to fire. I will use Fireball again to take advantage of this weakness and deal more damage. Let's keep the momentum going.\", 'tool_calls': [{'id': 'call_q43aINXfOgQPOeincXpXUteb', 'function': {'arguments': '{\"name\":\"Fireball\"}', 'name': 'mageAbility'}, 'type': 'function'}], 'role': 'assistant'}, {'content': \"\\nMage's turn:Mage uses Fireball! Mage deals 42.900000000000006 critical damage to Slime! Slime is weak to Fire!\\nMonster's turn:Slime attacks! Slime deals 18 damage to Mage!\\nMage's HP: 64/120 | MP: 35/50\\nSlime's HP: 22.94999999999999/150\\nWhat will you do?\", 'tool_responses': [{'tool_call_id': 'call_q43aINXfOgQPOeincXpXUteb', 'role': 'tool', 'content': \"\\nMage's turn:Mage uses Fireball! Mage deals 42.900000000000006 critical damage to Slime! Slime is weak to Fire!\\nMonster's turn:Slime attacks! Slime deals 18 damage to Mage!\\nMage's HP: 64/120 | MP: 35/50\\nSlime's HP: 22.94999999999999/150\\nWhat will you do?\"}], 'role': 'tool'}, {'content': \"The Slime is still weak to Fire, so I will continue to exploit this weakness by using Fireball once more. Let's finish off the Slime with its weakness.\", 'tool_calls': [{'id': 'call_6NRDbgMrKhOv9CGeP2ZOF0FX', 'function': {'arguments': '{\"name\":\"Fireball\"}', 'name': 'mageAbility'}, 'type': 'function'}], 'role': 'assistant'}, {'content': \"\\nMage's turn:Mage uses Fireball! Mage deals 37.95 critical damage to Slime! Slime is weak to Fire!\\nMage's HP: 64/120 | MP: 30/50\\nSlime's HP: 0/150\\n\\nVictory! Mage defeated Slime!\", 'tool_responses': [{'tool_call_id': 'call_6NRDbgMrKhOv9CGeP2ZOF0FX', 'role': 'tool', 'content': \"\\nMage's turn:Mage uses Fireball! Mage deals 37.95 critical damage to Slime! Slime is weak to Fire!\\nMage's HP: 64/120 | MP: 30/50\\nSlime's HP: 0/150\\n\\nVictory! Mage defeated Slime!\"}], 'role': 'tool'}, {'content': 'TERMINATE', 'role': 'user'}], summary='The mage defeated a Slime in battle. The Slime was weak to Fire, making it vulnerable to fire-based attacks. By exploiting this weakness, the mage was able to deal increased damage and achieve victory over the Slime.', cost={'usage_including_cached_inference': {'total_cost': 0.006503500000000001, 'gpt-3.5-turbo-0125': {'cost': 0.006503500000000001, 'prompt_tokens': 11696, 'completion_tokens': 437, 'total_tokens': 12133}}, 'usage_excluding_cached_inference': {'total_cost': 0.006503500000000001, 'gpt-3.5-turbo-0125': {'cost': 0.006503500000000001, 'prompt_tokens': 11696, 'completion_tokens': 437, 'total_tokens': 12133}}}, human_input=[])\n"
     ]
    }
   ],
   "source": [
    "chat = ragproxyagent.initiate_chat(mageAgent,\n",
    "                                message=b.battlePrint,\n",
    "                                max_turns=20,\n",
    "                                summary_method=\"reflection_with_llm\",\n",
    "                                summary_args={\"summary_prompt\" : \"Summarize the monster you fought and the weaknesses you discovered.\"}\n",
    "                                )\n",
    "\n",
    "print(chat)"
   ]
  },
  {
   "cell_type": "markdown",
   "metadata": {},
   "source": [
    "## OPENAI API"
   ]
  },
  {
   "cell_type": "code",
   "execution_count": 10,
   "metadata": {},
   "outputs": [
    {
     "name": "stdout",
     "output_type": "stream",
     "text": [
      "Assistant(id='asst_ONJDOIMw7aK3PDIiB6aMX3Jm', created_at=1711721242, description=None, file_ids=['file-1GVa4WQad6GMFJh3lYwa12wd'], instructions='You are a mage fighting a turn-based battle against a randomly chosen enemy.\\nYou have a list of abilities available to you found in the file \"Abilities.xlsx\".\\nWhen you are asked what you will do, you will choose one ability from the file \"Abilities.xlsx\". Then you call the function useAttackAbility with the name of the ability.\\nIf the function returns false, you used an ability that you do not possess. Check the file \"Abilities.xlsx\" again to see what you can use.\\nIf the function returns true, wait for the next instruction from me and do not continue the battle on your own. For example you can just say \"Ok, lets see how the battle turns out\".', metadata={}, model='gpt-3.5-turbo-0125', name='Mage', object='assistant', tools=[CodeInterpreterTool(type='code_interpreter'), RetrievalTool(type='retrieval'), FunctionTool(function=FunctionDefinition(name='useAttackAbility', description='Uses an offensive ability', parameters={'type': 'object', 'properties': {'name': {'type': 'string', 'description': 'The name of the ability'}}, 'required': ['name']}), type='function')], top_p=1.0, temperature=1.0, response_format='auto')\n"
     ]
    }
   ],
   "source": [
    "client = OpenAI(api_key=key)\n",
    "\n",
    "my_assistants = client.beta.assistants.list(\n",
    "    order=\"desc\",\n",
    "    limit=\"20\",\n",
    ")\n",
    "\n",
    "mage = my_assistants.data[0]\n",
    "print(mage)"
   ]
  },
  {
   "cell_type": "code",
   "execution_count": 11,
   "metadata": {},
   "outputs": [
    {
     "name": "stdout",
     "output_type": "stream",
     "text": [
      "NEW TURN\n",
      "\n",
      "Mage's turn:Mage uses Fireball! Mage deals 37.95 critical damage to Slime! Slime is weak to Fire!\n",
      "Mage's HP: 64/120 | MP: 30/50\n",
      "Slime's HP: 0/150\n",
      "\n",
      "Victory! Mage defeated Slime!\n",
      "SyncCursorPage[Message](data=[Message(id='msg_wypsYtuvrXjCK7RDKs0AjM7x', assistant_id='asst_ONJDOIMw7aK3PDIiB6aMX3Jm', completed_at=None, content=[TextContentBlock(text=Text(annotations=[], value='Great job defeating the Slime! If you encounter another enemy and would like to engage in another battle, feel free to start a new turn.'), type='text')], created_at=1718913093, file_ids=[], incomplete_at=None, incomplete_details=None, metadata={}, object='thread.message', role='assistant', run_id='run_Vo68QvGOG6TM8td2pTv1oMLp', status=None, thread_id='thread_5fKbWaLEhpAlgK9JJWLKOUvH'), Message(id='msg_T1maUggV1qTtV6r1OD1ZdUOA', assistant_id=None, completed_at=None, content=[TextContentBlock(text=Text(annotations=[], value=\"\\nMage's turn:Mage uses Fireball! Mage deals 37.95 critical damage to Slime! Slime is weak to Fire!\\nMage's HP: 64/120 | MP: 30/50\\nSlime's HP: 0/150\\n\\nVictory! Mage defeated Slime!\"), type='text')], created_at=1718913091, file_ids=[], incomplete_at=None, incomplete_details=None, metadata={}, object='thread.message', role='user', run_id=None, status=None, thread_id='thread_5fKbWaLEhpAlgK9JJWLKOUvH')], object='list', first_id='msg_wypsYtuvrXjCK7RDKs0AjM7x', last_id='msg_T1maUggV1qTtV6r1OD1ZdUOA', has_more=False)\n"
     ]
    },
    {
     "ename": "AttributeError",
     "evalue": "'NoneType' object has no attribute 'submit_tool_outputs'",
     "output_type": "error",
     "traceback": [
      "\u001b[1;31m---------------------------------------------------------------------------\u001b[0m",
      "\u001b[1;31mAttributeError\u001b[0m                            Traceback (most recent call last)",
      "Cell \u001b[1;32mIn[11], line 39\u001b[0m\n\u001b[0;32m     36\u001b[0m \u001b[38;5;28;01melse\u001b[39;00m:\n\u001b[0;32m     37\u001b[0m   \u001b[38;5;28mprint\u001b[39m(run)\n\u001b[1;32m---> 39\u001b[0m a \u001b[38;5;241m=\u001b[39m json\u001b[38;5;241m.\u001b[39mloads(\u001b[43mrun\u001b[49m\u001b[38;5;241;43m.\u001b[39;49m\u001b[43mrequired_action\u001b[49m\u001b[38;5;241;43m.\u001b[39;49m\u001b[43msubmit_tool_outputs\u001b[49m\u001b[38;5;241m.\u001b[39mtool_calls[\u001b[38;5;241m0\u001b[39m]\u001b[38;5;241m.\u001b[39mfunction\u001b[38;5;241m.\u001b[39marguments)[\u001b[38;5;124m\"\u001b[39m\u001b[38;5;124mname\u001b[39m\u001b[38;5;124m\"\u001b[39m]\n\u001b[0;32m     40\u001b[0m \u001b[38;5;28mprint\u001b[39m(a, \u001b[38;5;28mtype\u001b[39m(a))\n\u001b[0;32m     42\u001b[0m \u001b[38;5;66;03m# message = client.beta.threads.messages.create(\u001b[39;00m\n\u001b[0;32m     43\u001b[0m \u001b[38;5;66;03m#   thread_id=thread.id,\u001b[39;00m\n\u001b[0;32m     44\u001b[0m \u001b[38;5;66;03m#   role=\"user\",\u001b[39;00m\n\u001b[0;32m     45\u001b[0m \u001b[38;5;66;03m#   content=b.battlePrint\u001b[39;00m\n\u001b[0;32m     46\u001b[0m \u001b[38;5;66;03m# )\u001b[39;00m\n",
      "\u001b[1;31mAttributeError\u001b[0m: 'NoneType' object has no attribute 'submit_tool_outputs'"
     ]
    }
   ],
   "source": [
    "#start thread\n",
    "thread = client.beta.threads.create()\n",
    "\n",
    "#intialize moveList used for every turn\n",
    "moveList = []\n",
    "\n",
    "message = client.beta.threads.messages.create(\n",
    "    thread_id=thread.id,\n",
    "    role=\"user\",\n",
    "    content=b.battlePrint\n",
    ")\n",
    "\n",
    "# while not b.is_over:\n",
    "print(\"NEW TURN\")\n",
    "print(b.battlePrint)\n",
    "moveList = []\n",
    "\n",
    "run = client.beta.threads.runs.create(\n",
    "  thread_id=thread.id,\n",
    "  assistant_id=mage.id\n",
    ")\n",
    "\n",
    "  \n",
    "while run.status in ['queued', 'in_progress', 'cancelling']:\n",
    "  time.sleep(1) # Wait for 1 second\n",
    "  run = client.beta.threads.runs.retrieve(\n",
    "    thread_id=thread.id,\n",
    "    run_id=run.id\n",
    "  )\n",
    "\n",
    "if run.status == 'completed': \n",
    "  messages = client.beta.threads.messages.list(\n",
    "    thread_id=thread.id\n",
    "  )\n",
    "  print(messages)\n",
    "else:\n",
    "  print(run)\n",
    "\n",
    "a = json.loads(run.required_action.submit_tool_outputs.tool_calls[0].function.arguments)[\"name\"]\n",
    "print(a, type(a))\n",
    "\n",
    "# message = client.beta.threads.messages.create(\n",
    "#   thread_id=thread.id,\n",
    "#   role=\"user\",\n",
    "#   content=b.battlePrint\n",
    "# )"
   ]
  },
  {
   "cell_type": "markdown",
   "metadata": {},
   "source": [
    "## TESTCODE"
   ]
  },
  {
   "cell_type": "code",
   "execution_count": null,
   "metadata": {},
   "outputs": [],
   "source": [
    "current = b.nextTurn([\"Lightning Bolt\"])\n",
    "print(\"CURRENT\", current)"
   ]
  },
  {
   "cell_type": "code",
   "execution_count": null,
   "metadata": {},
   "outputs": [],
   "source": [
    "b.enterAttack(warrior)"
   ]
  },
  {
   "cell_type": "code",
   "execution_count": null,
   "metadata": {},
   "outputs": [],
   "source": [
    "b.enterAbility(magePlayer, \"Fireball\")"
   ]
  },
  {
   "cell_type": "code",
   "execution_count": null,
   "metadata": {},
   "outputs": [],
   "source": []
  }
 ],
 "metadata": {
  "kernelspec": {
   "display_name": "AgentsAndDragons",
   "language": "python",
   "name": "python3"
  },
  "language_info": {
   "codemirror_mode": {
    "name": "ipython",
    "version": 3
   },
   "file_extension": ".py",
   "mimetype": "text/x-python",
   "name": "python",
   "nbconvert_exporter": "python",
   "pygments_lexer": "ipython3",
   "version": "3.11.8"
  }
 },
 "nbformat": 4,
 "nbformat_minor": 2
}
