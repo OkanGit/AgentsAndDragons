{
 "cells": [
  {
   "cell_type": "markdown",
   "metadata": {},
   "source": [
    "In this example, the magician uses some of its most mana consuming abilities straight from the start. It runs out before being able to deal enough damage, which leads to a defeat.\n",
    "\n",
    "Additionally, the conversation with the warrior afterwards is also broken by the warrior trying to call its list of abilities."
   ]
  },
  {
   "cell_type": "code",
   "execution_count": 30,
   "metadata": {},
   "outputs": [
    {
     "name": "stdout",
     "output_type": "stream",
     "text": [
      "c:\\Users\\okan2\\Desktop\\Seminar\\Code\\AgentsAndDragons\n"
     ]
    }
   ],
   "source": [
    "from Player import Player\n",
    "from Battle import Battle\n",
    "from Monster import Monster\n",
    "import time, json\n",
    "import pandas as pd\n",
    "from openai import OpenAI\n",
    "import os\n",
    "\n",
    "print(os.getcwd())"
   ]
  },
  {
   "cell_type": "code",
   "execution_count": 31,
   "metadata": {},
   "outputs": [
    {
     "name": "stdout",
     "output_type": "stream",
     "text": [
      "A Demon draws near!\n",
      "\n",
      "Mage's HP: 120/120 | MP: 50/50\n",
      "\n",
      "Demon's HP: 200/150\n",
      "\n",
      "What will you do?\n"
     ]
    },
    {
     "data": {
      "text/plain": [
       "\"A Demon draws near!\\nMage's HP: 120/120 | MP: 50/50\\nDemon's HP: 200/150\\nWhat will you do?\""
      ]
     },
     "execution_count": 31,
     "metadata": {},
     "output_type": "execute_result"
    }
   ],
   "source": [
    "warriorPlayer = Player(\"Warrior\", 120, 30, 25, pd.read_excel(\"Abilities.xlsx\"))\n",
    "magePlayer = Player(\"Mage\", 120, 50, 25, pd.read_excel(\"Abilities.xlsx\"))\n",
    "players = [magePlayer]\n",
    "#monster = Monster(\"Slime\", 200, 200, 10, weaknesses=[\"Lightning\"])\n",
    "monster = Monster(\"Demon\", 200, 150, 20, weaknesses=[\"Light\", \"Ice\"])\n",
    "\n",
    "\n",
    "b = Battle(players, monster)\n",
    "b.battlePrint"
   ]
  },
  {
   "cell_type": "code",
   "execution_count": 32,
   "metadata": {},
   "outputs": [],
   "source": [
    "from apiKey import key"
   ]
  },
  {
   "cell_type": "markdown",
   "metadata": {},
   "source": [
    "## AUTOGEN"
   ]
  },
  {
   "cell_type": "code",
   "execution_count": 33,
   "metadata": {},
   "outputs": [],
   "source": [
    "from autogen.oai.openai_utils import retrieve_assistants_by_name\n",
    "from autogen import ConversableAgent, UserProxyAgent\n",
    "from autogen.agentchat.contrib.retrieve_assistant_agent import RetrieveAssistantAgent\n",
    "from autogen.agentchat.contrib.retrieve_user_proxy_agent import RetrieveUserProxyAgent\n",
    "from autogen.retrieve_utils import TEXT_FORMATS\n",
    "from typing_extensions import Annotated"
   ]
  },
  {
   "cell_type": "markdown",
   "metadata": {},
   "source": [
    "Agent Definitions"
   ]
  },
  {
   "cell_type": "code",
   "execution_count": 34,
   "metadata": {},
   "outputs": [],
   "source": [
    "mageAgent = RetrieveAssistantAgent(\n",
    "    name=\"Mage\",\n",
    "    llm_config={\"config_list\": [{\"model\": \"gpt-3.5-turbo\", \"temperature\": 1, \"api_key\": key}],\n",
    "    },\n",
    "    system_message=\"You are an AI assistant taking the role of a mage fighting a turn-based battle against an enemy.\"\n",
    "    \"You are fighting the battle with a partner warrior. He may ask you inbetween turns to discuss the next actions to take. In this case, \"\n",
    "    \"try to elaborate on the situation and say what you think the best course of action would be.\"\n",
    "    \"Remember the advice your teammate gives you when choosing your next action.\"\n",
    "    \"While you are having a conversation with your partner about the enemy, only talk to each other, do not call any functions or tools. \"\n",
    "    \n",
    "    \"Outside of the conversation with your partner, you will interact with the battle in the following way:\"\n",
    "    \"1. You will be presented with the state of the battle with the participants HP and MP values as well as everything that has happened previously.\"\n",
    "    \"2. When you are asked what you will do, you have to decide and choose the action you will enter for this turn.\"\n",
    "    \"3. First, call the function mageListAbilities to get a list of abilities available to you.\"\n",
    "    \"4. Then you will choose an ability from the list and call the function mageAbility with the name of the ability as the parameter.\"\n",
    "    \"Only call the function mageAbility once per turn.\"\n",
    "    \"The goal is to deal as much damage as possible to the enemy. Consider the damage multipliers and the attributes when choosing an ability.\"\n",
    "    \"Enemies can have weaknesses to certain attributes.\"\n",
    "    \"For example, if you know that a slime is weak to lightning, you should use Lightning Bolt instead of Fireball, even if Fireball has a higher multiplier.\"\n",
    "    \"If you have not encountered an enemy before, you do not know any weaknesses. Try out all of your abilities until you land a critical hit.\"\n",
    "    \"If the ability does not land a critical hit, you know that the enemy is not weak to the attribute of the ability you used. Try another ability in this case.\"\n",
    "    \"If you realize that one of your abilities has dealt critical damage to an enemy, you have discovered a new weakness of that enemy.\"\n",
    "    \"Be sure to remember it for the next turns and reuse it in the following turns.\"\n",
    "    \"Lay out your plan of action before executing it. Break down each step in your consideration.\"\n",
    "    \"Do not ask for any human input and execute all your decisions by calling functions every turn until the battle ends.\"\n",
    "    \"Do not ask questions while formulating your plan of action.\"\n",
    "    \"If you decide to call a function do not forget to execute the corresponding python code aswell.\"\n",
    "    \"If you run out of mana, you can either use another ability with lower mana costs or, if you cannot use any other abilities, use a simple attack with the function mageAttack, since a simple attack does not use any MP.\"\n",
    "    \"Instead of using an ability or attacking, you may also defend with the function mageDefend. This will protect you from some damage.\"\n",
    "    \"Repeat the above steps as long as the battle has not ended. The battle is only over if you receive a message about either Victory or Defeat.\"\n",
    "    \"There will be no termination until the enemy is defeated. Always move forward with your actions, do not wait and do not ask for any human input.\"\n",
    "    \"This means, if you decide to choose a specific ability, immediately call the corresponding function.\"\n",
    "    #\"Always continue the battle until it is over. Do not terminate until the battle is over.\"\n",
    "    \"When the battle ends, reply with TERMINATE.\"\n",
    ")"
   ]
  },
  {
   "cell_type": "code",
   "execution_count": 35,
   "metadata": {},
   "outputs": [],
   "source": [
    "warriorAgent = RetrieveAssistantAgent(\n",
    "    name=\"Warrior\",\n",
    "    llm_config={\"config_list\": [{\"model\": \"gpt-3.5-turbo\", \"temperature\": 1, \"api_key\": key}],\n",
    "    },\n",
    "    system_message=\"You are an AI assistant taking the role of a warrior fighting a turn-based battle against an enemy.\"\n",
    "    \"You are fighting the battle with a partner mage. He may ask you inbetween turns to discuss the next actions to take. In this case, \"\n",
    "    \"try to elaborate on the situation and say what you think the best course of action would be.\"\n",
    "    \"Remember the advice your teammate gives you when choosing your next action.\"\n",
    "    \"While you are having a conversation with your partner about the enemy, only talk to each other, do not call any functions or tools. \"\n",
    "    \n",
    "    \"Outside of the conversation with your partner, you will interact with the battle in the following way:\"\n",
    "    \"1. You will be presented with the state of the battle with the participants HP and MP values as well as everything that has happened previously.\"\n",
    "    \"2. When you are asked what you will do, you have to decide and choose the action you will enter for this turn.\"\n",
    "    \"3. First, call the function warriorListAbilities to get a list of abilities available to you.\"\n",
    "    \"4. Then you will choose an ability from the list and call the function warriorAbility with the name of the ability as the parameter.\"\n",
    "    \"Only call the function warriorAbility once per turn.\"\n",
    "    \"The goal is to deal as much damage as possible to the enemy. Consider the damage multipliers and the attributes when choosing an ability.\"\n",
    "    \"Enemies can have weaknesses to certain attributes.\"\n",
    "    \"For example, if you know that a slime is weak to lightning, you should use Lightning Bolt instead of Fireball, even if Fireball has a higher multiplier.\"\n",
    "    \"If you have not encountered an enemy before, you do not know any weaknesses. Try out all of your abilities until you land a critical hit.\"\n",
    "    \"If the ability does not land a critical hit, you know that the enemy is not weak to the attribute of the ability you used. Try another ability in this case.\"\n",
    "    \"If you realize that one of your abilities has dealt critical damage to an enemy, you have discovered a new weakness of that enemy.\"\n",
    "    \"Be sure to remember it for the next turns and reuse it in the following turns.\"\n",
    "    \"Lay out your plan of action before executing it. Break down each step in your consideration.\"\n",
    "    \"Do not ask for any human input and execute all your decisions by calling functions every turn until the battle ends.\"\n",
    "    \"Do not ask questions while formulating your plan of action.\"\n",
    "    \"If you decide to call a function do not forget to execute the corresponding python code aswell.\"\n",
    "    \"If you run out of mana, you can either use another ability with lower mana costs or, if you cannot use any other abilities, use a simple attack with the function warriorAttack, since a simple attack does not use any MP.\"\n",
    "    \"Instead of using an ability or attacking, you may also defend with the function warriorDefend. This will protect you from some damage.\"\n",
    "    \"Repeat the above steps as long as the battle has not ended. The battle is only over if you receive a message about either Victory or Defeat.\"\n",
    "    \"There will be no termination until the enemy is defeated. Always move forward with your actions, do not wait and do not ask for any human input.\"\n",
    "    \"This means, if you decide to choose a specific ability, immediately call the corresponding function.\"\n",
    "    #\"Always continue the battle until it is over. Do not terminate until the battle is over.\"\n",
    "    \"When the battle ends, reply with TERMINATE.\"\n",
    ")"
   ]
  },
  {
   "cell_type": "code",
   "execution_count": 36,
   "metadata": {},
   "outputs": [],
   "source": [
    "ragproxyagent = RetrieveUserProxyAgent(\n",
    "    name=\"ragproxyagent\",\n",
    "    human_input_mode=\"NEVER\",\n",
    "    default_auto_reply=\"Ok\",\n",
    "    max_consecutive_auto_reply=20,\n",
    "    retrieve_config={\n",
    "        \"docs_path\": [\n",
    "            \"Abilities.csv\"\n",
    "        ],\n",
    "        \"embedding_model\": \"all-mpnet-base-v2\",\n",
    "        \"get_or_create\": True,\n",
    "        \"last_n_messages\" : 1\n",
    "    },\n",
    "    is_termination_msg=lambda x: x.get(\"content\", \"\") and x.get(\"content\", \"\").rstrip().endswith(\"TERMINATE\"),\n",
    "    code_execution_config={\n",
    "        \"work_dir\": os.getcwd(),\n",
    "        \"use_docker\": False,\n",
    "    },  # set to False if you don't want to execute the code\n",
    "    \n",
    ")"
   ]
  },
  {
   "cell_type": "code",
   "execution_count": 37,
   "metadata": {},
   "outputs": [],
   "source": [
    "from autogen import GroupChat\n",
    "from autogen import GroupChatManager\n",
    "\n",
    "group_chat = GroupChat(\n",
    "    agents=[mageAgent, warriorAgent],\n",
    "    messages=[],\n",
    "    max_round=4,\n",
    "    speaker_selection_method=\"round_robin\",\n",
    ")\n",
    "\n",
    "group_chat_manager = GroupChatManager(\n",
    "    groupchat=group_chat,\n",
    "    llm_config={\"config_list\": [{\"model\": \"gpt-3.5-turbo\", \"temperature\": 1, \"api_key\": key}]},\n",
    ")"
   ]
  },
  {
   "cell_type": "markdown",
   "metadata": {},
   "source": [
    "Mage Abilities"
   ]
  },
  {
   "cell_type": "code",
   "execution_count": 38,
   "metadata": {},
   "outputs": [],
   "source": [
    "mageAbilityCounter = {\"attack\" : 0,\n",
    "                      \"abilityList\" : 0,\n",
    "                      \"ability\" : 0,\n",
    "                      \"defend\" : 0\n",
    "                      }\n",
    "\n",
    "# @group_chat_manager.register_for_execution()\n",
    "@ragproxyagent.register_for_execution()\n",
    "@mageAgent.register_for_llm(name=\"mageListAbilities\", description=\"Returns a dataframe with details of the mages abilities\")\n",
    "def mageListAbilities() -> pd.DataFrame:\n",
    "    mageAbilityCounter[\"abilityList\"] += 1\n",
    "    return pd.read_csv(\"Abilities.csv\", sep=\";\").to_json()\n",
    "\n",
    "# @group_chat_manager.register_for_execution()\n",
    "@ragproxyagent.register_for_execution()\n",
    "@mageAgent.register_for_llm(name=\"mageAbility\", description=\"Execute the ability of the mage\")\n",
    "def mageAbility(name : Annotated[str, \"Name of the used ability\"]) -> str:\n",
    "    b.enterAbility(magePlayer, name)\n",
    "    mageAbilityCounter[\"ability\"] += 1\n",
    "    return b.battlePrint\n",
    "\n",
    "# @group_chat_manager.register_for_execution()\n",
    "@ragproxyagent.register_for_execution()\n",
    "@mageAgent.register_for_llm(name=\"mageAttack\", description=\"Attack the enemy\")\n",
    "def mageAttack() -> str:\n",
    "    b.enterAttack(magePlayer)\n",
    "    mageAbilityCounter[\"attack\"] += 1\n",
    "    return b.battlePrint\n",
    "\n",
    "# @group_chat_manager.register_for_execution()\n",
    "@ragproxyagent.register_for_execution()\n",
    "@mageAgent.register_for_llm(name=\"mageDefend\", description=\"Defends against incoming attacks\")\n",
    "def mageAttack() -> str:\n",
    "    b.enterDefend(magePlayer)\n",
    "    mageAbilityCounter[\"defend\"] += 1\n",
    "    return b.battlePrint"
   ]
  },
  {
   "cell_type": "code",
   "execution_count": 39,
   "metadata": {},
   "outputs": [
    {
     "name": "stdout",
     "output_type": "stream",
     "text": [
      "\u001b[92m\n",
      "CLEARING MEMORY\u001b[0m\n"
     ]
    }
   ],
   "source": [
    "from autogen.agentchat.contrib.capabilities import teachability\n",
    "from autogen import register_function\n",
    "\n",
    "# Instantiate the Teachability capability. Its parameters are all optional.\n",
    "teachability = teachability.Teachability(\n",
    "    verbosity=0,  # 0 for basic info, 1 to add memory operations, 2 for analyzer messages, 3 for memo lists.\n",
    "    reset_db=True,\n",
    "    path_to_db_dir=\"experience.db\",\n",
    "    recall_threshold=1.5,  # Higher numbers allow more (but less relevant) memos to be recalled.\n",
    ")\n",
    "\n",
    "# Now add the Teachability capability to the agent.\n",
    "#teachability.add_to_agent(mageAgent)"
   ]
  },
  {
   "cell_type": "markdown",
   "metadata": {},
   "source": [
    "Warrior Abilities"
   ]
  },
  {
   "cell_type": "code",
   "execution_count": 40,
   "metadata": {},
   "outputs": [],
   "source": [
    "warriorAbilityCounter = {\"attack\" : 0,\n",
    "                      \"abilityList\" : 0,\n",
    "                      \"ability\" : 0,\n",
    "                      \"defend\" : 0\n",
    "                      }\n",
    "\n",
    "@group_chat_manager.register_for_execution()\n",
    "@ragproxyagent.register_for_execution()\n",
    "@warriorAgent.register_for_llm(name=\"warriorListAbilities\", description=\"Returns a dataframe with details of the warriors abilities\")\n",
    "def warriorListAbilities() -> pd.DataFrame:\n",
    "    return pd.read_csv(\"Abilities.csv\", sep=\";\").to_json()\n",
    "\n",
    "@group_chat_manager.register_for_execution()\n",
    "@ragproxyagent.register_for_execution()\n",
    "@warriorAgent.register_for_llm(name=\"warriorAbility\", description=\"Execute the ability of the warrior\")\n",
    "def warriorAbility(name : Annotated[str, \"Name of the used ability\"]) -> str:\n",
    "    b.enterAbility(warriorPlayer, name)\n",
    "    return b.battlePrint\n",
    "\n",
    "@group_chat_manager.register_for_execution()\n",
    "@ragproxyagent.register_for_execution()\n",
    "@warriorAgent.register_for_llm(name=\"warriorAttack\", description=\"Attack the enemy\")\n",
    "def warriorAttack() -> str:\n",
    "    b.enterAttack(warriorPlayer)\n",
    "    return b.battlePrint\n",
    "\n",
    "@group_chat_manager.register_for_execution()\n",
    "@ragproxyagent.register_for_execution()\n",
    "@warriorAgent.register_for_llm(name=\"warriorDefend\", description=\"Defends against incoming attacks\")\n",
    "def warriorDefend() -> str:\n",
    "    b.enterDefend(warriorPlayer)\n",
    "    warriorAbilityCounter[\"defend\"] += 1\n",
    "    return b.battlePrint"
   ]
  },
  {
   "cell_type": "code",
   "execution_count": 41,
   "metadata": {},
   "outputs": [],
   "source": [
    "mageAgent.description = \"A magician taking part in the battle.\"\n",
    "warriorAgent.description = \"A warrior taking part in the battle.\""
   ]
  },
  {
   "cell_type": "markdown",
   "metadata": {},
   "source": [
    "Chat Initiation"
   ]
  },
  {
   "cell_type": "code",
   "execution_count": 42,
   "metadata": {},
   "outputs": [],
   "source": [
    "mageAgent.reset()\n",
    "ragproxyagent.reset()"
   ]
  },
  {
   "cell_type": "code",
   "execution_count": 43,
   "metadata": {},
   "outputs": [
    {
     "name": "stdout",
     "output_type": "stream",
     "text": [
      "\u001b[33mragproxyagent\u001b[0m (to Mage):\n",
      "\n",
      "A Demon draws near!\n",
      "Mage's HP: 120/120 | MP: 50/50\n",
      "Demon's HP: 200/150\n",
      "What will you do?\n",
      "\n",
      "--------------------------------------------------------------------------------\n",
      "\u001b[33mMage\u001b[0m (to ragproxyagent):\n",
      "\n",
      "\u001b[32m***** Suggested tool call (call_UVCGptnjc0P5wMDHeLN9sN9z): mageListAbilities *****\u001b[0m\n",
      "Arguments: \n",
      "{}\n",
      "\u001b[32m**********************************************************************************\u001b[0m\n",
      "\n",
      "--------------------------------------------------------------------------------\n",
      "\u001b[35m\n",
      ">>>>>>>> EXECUTING FUNCTION mageListAbilities...\u001b[0m\n"
     ]
    },
    {
     "name": "stderr",
     "output_type": "stream",
     "text": [
      "[runtime logging] log_function_use: autogen logger is None\n"
     ]
    },
    {
     "name": "stdout",
     "output_type": "stream",
     "text": [
      "\u001b[33mragproxyagent\u001b[0m (to Mage):\n",
      "\n",
      "\u001b[33mragproxyagent\u001b[0m (to Mage):\n",
      "\n",
      "\u001b[32m***** Response from calling tool (call_UVCGptnjc0P5wMDHeLN9sN9z) *****\u001b[0m\n",
      "{\"Name\":{\"0\":\"Fireball\",\"1\":\"Lightning Bolt\",\"2\":\"Icecicle\",\"3\":\"Dark Obliteration\",\"4\":\"Inferno\",\"5\":\"Magic Explosion\"},\"Description\":{\"0\":\"Shoots a small fireball at the enemy\",\"1\":\"Zaps the enemy with the power of lightning\",\"2\":\"Drops an icecicle on the enemy from above\",\"3\":\"Conjures shadows to crush foes, inflicting heavy damage.\",\"4\":\"Engulfs enemies in flames, causing widespread damage.\",\"5\":\"Creates a huge explosion using the full power of the user's magic.\"},\"Damage Multiplier\":{\"0\":\"1,10\",\"1\":\"1,05\",\"2\":\"1,10\",\"3\":\"2,00\",\"4\":\"1,50\",\"5\":\"2,50\"},\"Attributes\":{\"0\":\"Fire\",\"1\":\"Lightning\",\"2\":\"Ice\",\"3\":\"Dark\",\"4\":\"Fire\",\"5\":\"Light\"},\"Cost\":{\"0\":5,\"1\":10,\"2\":8,\"3\":30,\"4\":20,\"5\":50}}\n",
      "\u001b[32m**********************************************************************\u001b[0m\n",
      "\n",
      "--------------------------------------------------------------------------------\n",
      "\u001b[33mMage\u001b[0m (to ragproxyagent):\n",
      "\n",
      "The Demon's weakness is not clear yet. Let's start by trying out different abilities to see which one deals critical damage. I suggest using abilities with higher multipliers to maximize damage output. Let's go with \"Dark Obliteration\" this time for heavier damage.\n",
      "\n",
      "--------------------------------------------------------------------------------\n",
      "\u001b[33mragproxyagent\u001b[0m (to Mage):\n",
      "\n",
      "Ok\n",
      "\n",
      "--------------------------------------------------------------------------------\n",
      "\u001b[33mMage\u001b[0m (to ragproxyagent):\n",
      "\n",
      "\u001b[32m***** Suggested tool call (call_hMpVgqDwfUaY1GEH8QsOP0PH): mageAbility *****\u001b[0m\n",
      "Arguments: \n",
      "{\"name\":\"Dark Obliteration\"}\n",
      "\u001b[32m****************************************************************************\u001b[0m\n",
      "\n",
      "--------------------------------------------------------------------------------\n",
      "\u001b[35m\n",
      ">>>>>>>> EXECUTING FUNCTION mageAbility...\u001b[0m\n"
     ]
    },
    {
     "name": "stderr",
     "output_type": "stream",
     "text": [
      "[runtime logging] log_function_use: autogen logger is None\n"
     ]
    },
    {
     "name": "stdout",
     "output_type": "stream",
     "text": [
      "Mage has selected Dark Obliteration\n",
      "\n",
      "Mage's turn:Mage uses Dark Obliteration! Mage deals 46.0 damage to Demon!\n",
      "Monster's turn:Demon attacks! Demon deals 23 damage to Mage!\n",
      "\n",
      "Mage's HP: 97/120 | MP: 20/50\n",
      "\n",
      "Demon's HP: 154.0/150\n",
      "\n",
      "What will you do?\n",
      "Turn executed\n",
      "\u001b[33mragproxyagent\u001b[0m (to Mage):\n",
      "\n",
      "\u001b[33mragproxyagent\u001b[0m (to Mage):\n",
      "\n",
      "\u001b[32m***** Response from calling tool (call_hMpVgqDwfUaY1GEH8QsOP0PH) *****\u001b[0m\n",
      "\n",
      "Mage's turn:Mage uses Dark Obliteration! Mage deals 46.0 damage to Demon!\n",
      "Monster's turn:Demon attacks! Demon deals 23 damage to Mage!\n",
      "Mage's HP: 97/120 | MP: 20/50\n",
      "Demon's HP: 154.0/150\n",
      "What will you do?\n",
      "\u001b[32m**********************************************************************\u001b[0m\n",
      "\n",
      "--------------------------------------------------------------------------------\n",
      "\u001b[33mMage\u001b[0m (to ragproxyagent):\n",
      "\n",
      "The Demon is not weak to Dark attribute. Let's try a different strategy. Since the Demon has taken damage from \"Dark Obliteration,\" it's not weak to Dark. Let's try an ability with a different attribute. I recommend using \"Lightning Bolt\" this time to test the Demon's weakness to Lightning.\n",
      "\n",
      "--------------------------------------------------------------------------------\n",
      "\u001b[33mragproxyagent\u001b[0m (to Mage):\n",
      "\n",
      "Ok\n",
      "\n",
      "--------------------------------------------------------------------------------\n",
      "\u001b[33mMage\u001b[0m (to ragproxyagent):\n",
      "\n",
      "\u001b[32m***** Suggested tool call (call_gylIeJe1901BCxAME0L54prD): mageAbility *****\u001b[0m\n",
      "Arguments: \n",
      "{\"name\":\"Lightning Bolt\"}\n",
      "\u001b[32m****************************************************************************\u001b[0m\n",
      "\n",
      "--------------------------------------------------------------------------------\n",
      "\u001b[35m\n",
      ">>>>>>>> EXECUTING FUNCTION mageAbility...\u001b[0m\n"
     ]
    },
    {
     "name": "stderr",
     "output_type": "stream",
     "text": [
      "[runtime logging] log_function_use: autogen logger is None\n"
     ]
    },
    {
     "name": "stdout",
     "output_type": "stream",
     "text": [
      "Mage has selected Lightning Bolt\n",
      "\n",
      "Mage's turn:Mage uses Lightning Bolt! Mage deals 23.1 damage to Demon!\n",
      "Monster's turn:Demon attacks! Demon deals 23 damage to Mage!\n",
      "\n",
      "Mage's HP: 74/120 | MP: 10/50\n",
      "\n",
      "Demon's HP: 130.9/150\n",
      "\n",
      "What will you do?\n",
      "Turn executed\n",
      "\u001b[33mragproxyagent\u001b[0m (to Mage):\n",
      "\n",
      "\u001b[33mragproxyagent\u001b[0m (to Mage):\n",
      "\n",
      "\u001b[32m***** Response from calling tool (call_gylIeJe1901BCxAME0L54prD) *****\u001b[0m\n",
      "\n",
      "Mage's turn:Mage uses Lightning Bolt! Mage deals 23.1 damage to Demon!\n",
      "Monster's turn:Demon attacks! Demon deals 23 damage to Mage!\n",
      "Mage's HP: 74/120 | MP: 10/50\n",
      "Demon's HP: 130.9/150\n",
      "What will you do?\n",
      "\u001b[32m**********************************************************************\u001b[0m\n",
      "\n",
      "--------------------------------------------------------------------------------\n",
      "\u001b[33mMage\u001b[0m (to ragproxyagent):\n",
      "\n",
      "The Demon seems to be resistant to Lightning as well. Let's try another attribute to find its weakness. Since our mana is low, we should conserve it by using a simple attack next turn. Let's regroup and strategize for our next moves.\n",
      "\n",
      "--------------------------------------------------------------------------------\n",
      "\u001b[33mragproxyagent\u001b[0m (to Mage):\n",
      "\n",
      "Ok\n",
      "\n",
      "--------------------------------------------------------------------------------\n",
      "\u001b[33mMage\u001b[0m (to ragproxyagent):\n",
      "\n",
      "\u001b[32m***** Suggested tool call (call_Qkz5iWh4mWh2nDta1occv8h5): mageAttack *****\u001b[0m\n",
      "Arguments: \n",
      "{}\n",
      "\u001b[32m***************************************************************************\u001b[0m\n",
      "\n",
      "--------------------------------------------------------------------------------\n",
      "\u001b[35m\n",
      ">>>>>>>> EXECUTING FUNCTION mageAttack...\u001b[0m\n"
     ]
    },
    {
     "name": "stderr",
     "output_type": "stream",
     "text": [
      "[runtime logging] log_function_use: autogen logger is None\n"
     ]
    },
    {
     "name": "stdout",
     "output_type": "stream",
     "text": [
      "Mage has selected attack\n",
      "\n",
      "Mage's turn:Mage attacks! Mage deals 28 damage to Demon!\n",
      "Monster's turn:Demon attacks! Demon deals 20 damage to Mage!\n",
      "\n",
      "Mage's HP: 54/120 | MP: 10/50\n",
      "\n",
      "Demon's HP: 102.9/150\n",
      "\n",
      "What will you do?\n",
      "Turn executed\n",
      "\u001b[33mragproxyagent\u001b[0m (to Mage):\n",
      "\n",
      "\u001b[33mragproxyagent\u001b[0m (to Mage):\n",
      "\n",
      "\u001b[32m***** Response from calling tool (call_Qkz5iWh4mWh2nDta1occv8h5) *****\u001b[0m\n",
      "\n",
      "Mage's turn:Mage attacks! Mage deals 28 damage to Demon!\n",
      "Monster's turn:Demon attacks! Demon deals 20 damage to Mage!\n",
      "Mage's HP: 54/120 | MP: 10/50\n",
      "Demon's HP: 102.9/150\n",
      "What will you do?\n",
      "\u001b[32m**********************************************************************\u001b[0m\n",
      "\n",
      "--------------------------------------------------------------------------------\n",
      "\u001b[33mMage\u001b[0m (to ragproxyagent):\n",
      "\n",
      "The Demon is not weak to the basic attack either. Since our mana is low, let's keep using simple attacks for now to conserve mana. Let's continue with another basic attack on the next turn.\n",
      "\n",
      "--------------------------------------------------------------------------------\n",
      "\u001b[33mragproxyagent\u001b[0m (to Mage):\n",
      "\n",
      "Ok\n",
      "\n",
      "--------------------------------------------------------------------------------\n",
      "\u001b[33mMage\u001b[0m (to ragproxyagent):\n",
      "\n",
      "\u001b[32m***** Suggested tool call (call_qrs1apW9QUF5G4zo1iAn5eeM): mageAttack *****\u001b[0m\n",
      "Arguments: \n",
      "{}\n",
      "\u001b[32m***************************************************************************\u001b[0m\n",
      "\n",
      "--------------------------------------------------------------------------------\n",
      "\u001b[35m\n",
      ">>>>>>>> EXECUTING FUNCTION mageAttack...\u001b[0m\n"
     ]
    },
    {
     "name": "stderr",
     "output_type": "stream",
     "text": [
      "[runtime logging] log_function_use: autogen logger is None\n"
     ]
    },
    {
     "name": "stdout",
     "output_type": "stream",
     "text": [
      "Mage has selected attack\n",
      "\n",
      "Mage's turn:Mage attacks! Mage deals 25 damage to Demon!\n",
      "Monster's turn:Demon attacks! Demon deals 19 damage to Mage!\n",
      "\n",
      "Mage's HP: 35/120 | MP: 10/50\n",
      "\n",
      "Demon's HP: 77.9/150\n",
      "\n",
      "What will you do?\n",
      "Turn executed\n",
      "\u001b[33mragproxyagent\u001b[0m (to Mage):\n",
      "\n",
      "\u001b[33mragproxyagent\u001b[0m (to Mage):\n",
      "\n",
      "\u001b[32m***** Response from calling tool (call_qrs1apW9QUF5G4zo1iAn5eeM) *****\u001b[0m\n",
      "\n",
      "Mage's turn:Mage attacks! Mage deals 25 damage to Demon!\n",
      "Monster's turn:Demon attacks! Demon deals 19 damage to Mage!\n",
      "Mage's HP: 35/120 | MP: 10/50\n",
      "Demon's HP: 77.9/150\n",
      "What will you do?\n",
      "\u001b[32m**********************************************************************\u001b[0m\n",
      "\n",
      "--------------------------------------------------------------------------------\n",
      "\u001b[33mMage\u001b[0m (to ragproxyagent):\n",
      "\n",
      "The Demon is not weak to basic attacks either. Let's keep using simple attacks to conserve mana. We will continue with another basic attack on the next turn until we defeat the Demon.\n",
      "\n",
      "--------------------------------------------------------------------------------\n",
      "\u001b[33mragproxyagent\u001b[0m (to Mage):\n",
      "\n",
      "Ok\n",
      "\n",
      "--------------------------------------------------------------------------------\n",
      "\u001b[33mMage\u001b[0m (to ragproxyagent):\n",
      "\n",
      "\u001b[32m***** Suggested tool call (call_deSRMQjXLpjaQH2T5XPlaH4t): mageAttack *****\u001b[0m\n",
      "Arguments: \n",
      "{}\n",
      "\u001b[32m***************************************************************************\u001b[0m\n",
      "\n",
      "--------------------------------------------------------------------------------\n",
      "\u001b[35m\n",
      ">>>>>>>> EXECUTING FUNCTION mageAttack...\u001b[0m\n"
     ]
    },
    {
     "name": "stderr",
     "output_type": "stream",
     "text": [
      "[runtime logging] log_function_use: autogen logger is None\n"
     ]
    },
    {
     "name": "stdout",
     "output_type": "stream",
     "text": [
      "Mage has selected attack\n",
      "\n",
      "Mage's turn:Mage attacks! Mage deals 23 damage to Demon!\n",
      "Monster's turn:Demon attacks! Demon deals 19 damage to Mage!\n",
      "\n",
      "Mage's HP: 16/120 | MP: 10/50\n",
      "\n",
      "Demon's HP: 54.900000000000006/150\n",
      "\n",
      "What will you do?\n",
      "Turn executed\n",
      "\u001b[33mragproxyagent\u001b[0m (to Mage):\n",
      "\n",
      "\u001b[33mragproxyagent\u001b[0m (to Mage):\n",
      "\n",
      "\u001b[32m***** Response from calling tool (call_deSRMQjXLpjaQH2T5XPlaH4t) *****\u001b[0m\n",
      "\n",
      "Mage's turn:Mage attacks! Mage deals 23 damage to Demon!\n",
      "Monster's turn:Demon attacks! Demon deals 19 damage to Mage!\n",
      "Mage's HP: 16/120 | MP: 10/50\n",
      "Demon's HP: 54.900000000000006/150\n",
      "What will you do?\n",
      "\u001b[32m**********************************************************************\u001b[0m\n",
      "\n",
      "--------------------------------------------------------------------------------\n",
      "\u001b[33mMage\u001b[0m (to ragproxyagent):\n",
      "\n",
      "The Demon is getting weaker. Let's keep up the simple attacks to finish it off. We will continue with another basic attack to defeat the Demon.\n",
      "\n",
      "--------------------------------------------------------------------------------\n",
      "\u001b[33mragproxyagent\u001b[0m (to Mage):\n",
      "\n",
      "Ok\n",
      "\n",
      "--------------------------------------------------------------------------------\n",
      "\u001b[33mMage\u001b[0m (to ragproxyagent):\n",
      "\n",
      "\u001b[32m***** Suggested tool call (call_m7WHzXVWs0qaRSiNsvAvqlyr): mageAttack *****\u001b[0m\n",
      "Arguments: \n",
      "{}\n",
      "\u001b[32m***************************************************************************\u001b[0m\n",
      "\n",
      "--------------------------------------------------------------------------------\n",
      "\u001b[35m\n",
      ">>>>>>>> EXECUTING FUNCTION mageAttack...\u001b[0m\n"
     ]
    },
    {
     "name": "stderr",
     "output_type": "stream",
     "text": [
      "[runtime logging] log_function_use: autogen logger is None\n"
     ]
    },
    {
     "name": "stdout",
     "output_type": "stream",
     "text": [
      "Mage has selected attack\n",
      "\n",
      "Mage's turn:Mage attacks! Mage deals 26 damage to Demon!\n",
      "Monster's turn:Demon attacks! Demon deals 21 damage to Mage!\n",
      "\n",
      "Demon's HP: 28.900000000000006/150\n",
      "\n",
      "What will you do?\n",
      "Turn executed\n",
      "\u001b[33mragproxyagent\u001b[0m (to Mage):\n",
      "\n",
      "\u001b[33mragproxyagent\u001b[0m (to Mage):\n",
      "\n",
      "\u001b[32m***** Response from calling tool (call_m7WHzXVWs0qaRSiNsvAvqlyr) *****\u001b[0m\n",
      "Defeat! Every player has fainted!\n",
      "\u001b[32m**********************************************************************\u001b[0m\n",
      "\n",
      "--------------------------------------------------------------------------------\n",
      "\u001b[33mMage\u001b[0m (to ragproxyagent):\n",
      "\n",
      "TERMINATE\n",
      "\n",
      "--------------------------------------------------------------------------------\n",
      "ChatResult(chat_id=None, chat_history=[{'content': \"A Demon draws near!\\nMage's HP: 120/120 | MP: 50/50\\nDemon's HP: 200/150\\nWhat will you do?\", 'role': 'assistant'}, {'tool_calls': [{'id': 'call_UVCGptnjc0P5wMDHeLN9sN9z', 'function': {'arguments': '{}', 'name': 'mageListAbilities'}, 'type': 'function'}], 'content': None, 'role': 'assistant'}, {'content': '{\"Name\":{\"0\":\"Fireball\",\"1\":\"Lightning Bolt\",\"2\":\"Icecicle\",\"3\":\"Dark Obliteration\",\"4\":\"Inferno\",\"5\":\"Magic Explosion\"},\"Description\":{\"0\":\"Shoots a small fireball at the enemy\",\"1\":\"Zaps the enemy with the power of lightning\",\"2\":\"Drops an icecicle on the enemy from above\",\"3\":\"Conjures shadows to crush foes, inflicting heavy damage.\",\"4\":\"Engulfs enemies in flames, causing widespread damage.\",\"5\":\"Creates a huge explosion using the full power of the user\\'s magic.\"},\"Damage Multiplier\":{\"0\":\"1,10\",\"1\":\"1,05\",\"2\":\"1,10\",\"3\":\"2,00\",\"4\":\"1,50\",\"5\":\"2,50\"},\"Attributes\":{\"0\":\"Fire\",\"1\":\"Lightning\",\"2\":\"Ice\",\"3\":\"Dark\",\"4\":\"Fire\",\"5\":\"Light\"},\"Cost\":{\"0\":5,\"1\":10,\"2\":8,\"3\":30,\"4\":20,\"5\":50}}', 'tool_responses': [{'tool_call_id': 'call_UVCGptnjc0P5wMDHeLN9sN9z', 'role': 'tool', 'content': '{\"Name\":{\"0\":\"Fireball\",\"1\":\"Lightning Bolt\",\"2\":\"Icecicle\",\"3\":\"Dark Obliteration\",\"4\":\"Inferno\",\"5\":\"Magic Explosion\"},\"Description\":{\"0\":\"Shoots a small fireball at the enemy\",\"1\":\"Zaps the enemy with the power of lightning\",\"2\":\"Drops an icecicle on the enemy from above\",\"3\":\"Conjures shadows to crush foes, inflicting heavy damage.\",\"4\":\"Engulfs enemies in flames, causing widespread damage.\",\"5\":\"Creates a huge explosion using the full power of the user\\'s magic.\"},\"Damage Multiplier\":{\"0\":\"1,10\",\"1\":\"1,05\",\"2\":\"1,10\",\"3\":\"2,00\",\"4\":\"1,50\",\"5\":\"2,50\"},\"Attributes\":{\"0\":\"Fire\",\"1\":\"Lightning\",\"2\":\"Ice\",\"3\":\"Dark\",\"4\":\"Fire\",\"5\":\"Light\"},\"Cost\":{\"0\":5,\"1\":10,\"2\":8,\"3\":30,\"4\":20,\"5\":50}}'}], 'role': 'tool'}, {'content': 'The Demon\\'s weakness is not clear yet. Let\\'s start by trying out different abilities to see which one deals critical damage. I suggest using abilities with higher multipliers to maximize damage output. Let\\'s go with \"Dark Obliteration\" this time for heavier damage.', 'role': 'user'}, {'content': 'Ok', 'role': 'assistant'}, {'tool_calls': [{'id': 'call_hMpVgqDwfUaY1GEH8QsOP0PH', 'function': {'arguments': '{\"name\":\"Dark Obliteration\"}', 'name': 'mageAbility'}, 'type': 'function'}], 'content': None, 'role': 'assistant'}, {'content': \"\\nMage's turn:Mage uses Dark Obliteration! Mage deals 46.0 damage to Demon!\\nMonster's turn:Demon attacks! Demon deals 23 damage to Mage!\\nMage's HP: 97/120 | MP: 20/50\\nDemon's HP: 154.0/150\\nWhat will you do?\", 'tool_responses': [{'tool_call_id': 'call_hMpVgqDwfUaY1GEH8QsOP0PH', 'role': 'tool', 'content': \"\\nMage's turn:Mage uses Dark Obliteration! Mage deals 46.0 damage to Demon!\\nMonster's turn:Demon attacks! Demon deals 23 damage to Mage!\\nMage's HP: 97/120 | MP: 20/50\\nDemon's HP: 154.0/150\\nWhat will you do?\"}], 'role': 'tool'}, {'content': 'The Demon is not weak to Dark attribute. Let\\'s try a different strategy. Since the Demon has taken damage from \"Dark Obliteration,\" it\\'s not weak to Dark. Let\\'s try an ability with a different attribute. I recommend using \"Lightning Bolt\" this time to test the Demon\\'s weakness to Lightning.', 'role': 'user'}, {'content': 'Ok', 'role': 'assistant'}, {'tool_calls': [{'id': 'call_gylIeJe1901BCxAME0L54prD', 'function': {'arguments': '{\"name\":\"Lightning Bolt\"}', 'name': 'mageAbility'}, 'type': 'function'}], 'content': None, 'role': 'assistant'}, {'content': \"\\nMage's turn:Mage uses Lightning Bolt! Mage deals 23.1 damage to Demon!\\nMonster's turn:Demon attacks! Demon deals 23 damage to Mage!\\nMage's HP: 74/120 | MP: 10/50\\nDemon's HP: 130.9/150\\nWhat will you do?\", 'tool_responses': [{'tool_call_id': 'call_gylIeJe1901BCxAME0L54prD', 'role': 'tool', 'content': \"\\nMage's turn:Mage uses Lightning Bolt! Mage deals 23.1 damage to Demon!\\nMonster's turn:Demon attacks! Demon deals 23 damage to Mage!\\nMage's HP: 74/120 | MP: 10/50\\nDemon's HP: 130.9/150\\nWhat will you do?\"}], 'role': 'tool'}, {'content': \"The Demon seems to be resistant to Lightning as well. Let's try another attribute to find its weakness. Since our mana is low, we should conserve it by using a simple attack next turn. Let's regroup and strategize for our next moves.\", 'role': 'user'}, {'content': 'Ok', 'role': 'assistant'}, {'tool_calls': [{'id': 'call_Qkz5iWh4mWh2nDta1occv8h5', 'function': {'arguments': '{}', 'name': 'mageAttack'}, 'type': 'function'}], 'content': None, 'role': 'assistant'}, {'content': \"\\nMage's turn:Mage attacks! Mage deals 28 damage to Demon!\\nMonster's turn:Demon attacks! Demon deals 20 damage to Mage!\\nMage's HP: 54/120 | MP: 10/50\\nDemon's HP: 102.9/150\\nWhat will you do?\", 'tool_responses': [{'tool_call_id': 'call_Qkz5iWh4mWh2nDta1occv8h5', 'role': 'tool', 'content': \"\\nMage's turn:Mage attacks! Mage deals 28 damage to Demon!\\nMonster's turn:Demon attacks! Demon deals 20 damage to Mage!\\nMage's HP: 54/120 | MP: 10/50\\nDemon's HP: 102.9/150\\nWhat will you do?\"}], 'role': 'tool'}, {'content': \"The Demon is not weak to the basic attack either. Since our mana is low, let's keep using simple attacks for now to conserve mana. Let's continue with another basic attack on the next turn.\", 'role': 'user'}, {'content': 'Ok', 'role': 'assistant'}, {'tool_calls': [{'id': 'call_qrs1apW9QUF5G4zo1iAn5eeM', 'function': {'arguments': '{}', 'name': 'mageAttack'}, 'type': 'function'}], 'content': None, 'role': 'assistant'}, {'content': \"\\nMage's turn:Mage attacks! Mage deals 25 damage to Demon!\\nMonster's turn:Demon attacks! Demon deals 19 damage to Mage!\\nMage's HP: 35/120 | MP: 10/50\\nDemon's HP: 77.9/150\\nWhat will you do?\", 'tool_responses': [{'tool_call_id': 'call_qrs1apW9QUF5G4zo1iAn5eeM', 'role': 'tool', 'content': \"\\nMage's turn:Mage attacks! Mage deals 25 damage to Demon!\\nMonster's turn:Demon attacks! Demon deals 19 damage to Mage!\\nMage's HP: 35/120 | MP: 10/50\\nDemon's HP: 77.9/150\\nWhat will you do?\"}], 'role': 'tool'}, {'content': \"The Demon is not weak to basic attacks either. Let's keep using simple attacks to conserve mana. We will continue with another basic attack on the next turn until we defeat the Demon.\", 'role': 'user'}, {'content': 'Ok', 'role': 'assistant'}, {'tool_calls': [{'id': 'call_deSRMQjXLpjaQH2T5XPlaH4t', 'function': {'arguments': '{}', 'name': 'mageAttack'}, 'type': 'function'}], 'content': None, 'role': 'assistant'}, {'content': \"\\nMage's turn:Mage attacks! Mage deals 23 damage to Demon!\\nMonster's turn:Demon attacks! Demon deals 19 damage to Mage!\\nMage's HP: 16/120 | MP: 10/50\\nDemon's HP: 54.900000000000006/150\\nWhat will you do?\", 'tool_responses': [{'tool_call_id': 'call_deSRMQjXLpjaQH2T5XPlaH4t', 'role': 'tool', 'content': \"\\nMage's turn:Mage attacks! Mage deals 23 damage to Demon!\\nMonster's turn:Demon attacks! Demon deals 19 damage to Mage!\\nMage's HP: 16/120 | MP: 10/50\\nDemon's HP: 54.900000000000006/150\\nWhat will you do?\"}], 'role': 'tool'}, {'content': \"The Demon is getting weaker. Let's keep up the simple attacks to finish it off. We will continue with another basic attack to defeat the Demon.\", 'role': 'user'}, {'content': 'Ok', 'role': 'assistant'}, {'tool_calls': [{'id': 'call_m7WHzXVWs0qaRSiNsvAvqlyr', 'function': {'arguments': '{}', 'name': 'mageAttack'}, 'type': 'function'}], 'content': None, 'role': 'assistant'}, {'content': 'Defeat! Every player has fainted!', 'tool_responses': [{'tool_call_id': 'call_m7WHzXVWs0qaRSiNsvAvqlyr', 'role': 'tool', 'content': 'Defeat! Every player has fainted!'}], 'role': 'tool'}, {'content': 'TERMINATE', 'role': 'user'}], summary='You encountered a Demon with 150 HP. Throughout the battle, you discovered that the Demon was not weak to Dark, Lightning, or basic attacks. The weaknesses of the Demon were not identified, and unfortunately, the battle ended in defeat with both the Mage and the Demon fainting.', cost={'usage_including_cached_inference': {'total_cost': 0.011005, 'gpt-3.5-turbo-0125': {'cost': 0.011005, 'prompt_tokens': 20705, 'completion_tokens': 435, 'total_tokens': 21140}}, 'usage_excluding_cached_inference': {'total_cost': 0.011005, 'gpt-3.5-turbo-0125': {'cost': 0.011005, 'prompt_tokens': 20705, 'completion_tokens': 435, 'total_tokens': 21140}}}, human_input=[])\n"
     ]
    }
   ],
   "source": [
    "chat = ragproxyagent.initiate_chat(mageAgent,\n",
    "                                message=b.battlePrint,\n",
    "                                max_turns=20,\n",
    "                                summary_method=\"reflection_with_llm\",\n",
    "                                summary_args={\"summary_prompt\" : \"Summarize the monster you fought and the weaknesses you discovered.\"}\n",
    "                                )\n",
    "\n",
    "print(chat)"
   ]
  },
  {
   "cell_type": "code",
   "execution_count": 29,
   "metadata": {},
   "outputs": [
    {
     "name": "stdout",
     "output_type": "stream",
     "text": [
      "\u001b[33mWarrior\u001b[0m (to Mage):\n",
      "\n",
      "Hey Mage, do you know about any weaknesses of demons?\n",
      "\n",
      "--------------------------------------------------------------------------------\n",
      "\u001b[33mMage\u001b[0m (to Warrior):\n",
      "\n",
      "Demons are often weak to holy or light attributes. We can try using abilities with these attributes to test for weaknesses. If we observe a critical hit, we can confirm their weakness and exploit it in subsequent turns. Let's start the battle and see if we can unveil any weaknesses of the demon.\n",
      "\n",
      "--------------------------------------------------------------------------------\n",
      "\u001b[33mWarrior\u001b[0m (to Mage):\n",
      "\n",
      "\u001b[32m***** Suggested tool call (call_18cH4ak9jBLY7BeUKsYoq6HX): warriorListAbilities *****\u001b[0m\n",
      "Arguments: \n",
      "{}\n",
      "\u001b[32m*************************************************************************************\u001b[0m\n",
      "\n",
      "--------------------------------------------------------------------------------\n"
     ]
    },
    {
     "ename": "TypeError",
     "evalue": "argument of type 'NoneType' is not iterable",
     "output_type": "error",
     "traceback": [
      "\u001b[1;31m---------------------------------------------------------------------------\u001b[0m",
      "\u001b[1;31mTypeError\u001b[0m                                 Traceback (most recent call last)",
      "Cell \u001b[1;32mIn[29], line 1\u001b[0m\n\u001b[1;32m----> 1\u001b[0m \u001b[43mwarriorAgent\u001b[49m\u001b[38;5;241;43m.\u001b[39;49m\u001b[43minitiate_chat\u001b[49m\u001b[43m(\u001b[49m\u001b[43mmageAgent\u001b[49m\u001b[43m,\u001b[49m\u001b[43m \u001b[49m\u001b[43mcontext\u001b[49m\u001b[38;5;241;43m=\u001b[39;49m\u001b[43mchat\u001b[49m\u001b[38;5;241;43m.\u001b[39;49m\u001b[43msummary\u001b[49m\u001b[43m,\u001b[49m\u001b[43m \u001b[49m\u001b[43mmessage\u001b[49m\u001b[38;5;241;43m=\u001b[39;49m\u001b[38;5;124;43m\"\u001b[39;49m\u001b[38;5;124;43mHey Mage, do you know about any weaknesses of demons?\u001b[39;49m\u001b[38;5;124;43m\"\u001b[39;49m\u001b[43m,\u001b[49m\u001b[43m \u001b[49m\u001b[43mmax_turns\u001b[49m\u001b[38;5;241;43m=\u001b[39;49m\u001b[38;5;241;43m4\u001b[39;49m\u001b[43m)\u001b[49m\n",
      "File \u001b[1;32mc:\\Users\\okan2\\anaconda3\\envs\\AgentsAndDragons\\Lib\\site-packages\\autogen\\agentchat\\conversable_agent.py:1011\u001b[0m, in \u001b[0;36mConversableAgent.initiate_chat\u001b[1;34m(self, recipient, clear_history, silent, cache, max_turns, summary_method, summary_args, message, **kwargs)\u001b[0m\n\u001b[0;32m   1009\u001b[0m         \u001b[38;5;28;01mif\u001b[39;00m msg2send \u001b[38;5;129;01mis\u001b[39;00m \u001b[38;5;28;01mNone\u001b[39;00m:\n\u001b[0;32m   1010\u001b[0m             \u001b[38;5;28;01mbreak\u001b[39;00m\n\u001b[1;32m-> 1011\u001b[0m         \u001b[38;5;28;43mself\u001b[39;49m\u001b[38;5;241;43m.\u001b[39;49m\u001b[43msend\u001b[49m\u001b[43m(\u001b[49m\u001b[43mmsg2send\u001b[49m\u001b[43m,\u001b[49m\u001b[43m \u001b[49m\u001b[43mrecipient\u001b[49m\u001b[43m,\u001b[49m\u001b[43m \u001b[49m\u001b[43mrequest_reply\u001b[49m\u001b[38;5;241;43m=\u001b[39;49m\u001b[38;5;28;43;01mTrue\u001b[39;49;00m\u001b[43m,\u001b[49m\u001b[43m \u001b[49m\u001b[43msilent\u001b[49m\u001b[38;5;241;43m=\u001b[39;49m\u001b[43msilent\u001b[49m\u001b[43m)\u001b[49m\n\u001b[0;32m   1012\u001b[0m \u001b[38;5;28;01melse\u001b[39;00m:\n\u001b[0;32m   1013\u001b[0m     \u001b[38;5;28mself\u001b[39m\u001b[38;5;241m.\u001b[39m_prepare_chat(recipient, clear_history)\n",
      "File \u001b[1;32mc:\\Users\\okan2\\anaconda3\\envs\\AgentsAndDragons\\Lib\\site-packages\\autogen\\agentchat\\conversable_agent.py:655\u001b[0m, in \u001b[0;36mConversableAgent.send\u001b[1;34m(self, message, recipient, request_reply, silent)\u001b[0m\n\u001b[0;32m    653\u001b[0m valid \u001b[38;5;241m=\u001b[39m \u001b[38;5;28mself\u001b[39m\u001b[38;5;241m.\u001b[39m_append_oai_message(message, \u001b[38;5;124m\"\u001b[39m\u001b[38;5;124massistant\u001b[39m\u001b[38;5;124m\"\u001b[39m, recipient)\n\u001b[0;32m    654\u001b[0m \u001b[38;5;28;01mif\u001b[39;00m valid:\n\u001b[1;32m--> 655\u001b[0m     \u001b[43mrecipient\u001b[49m\u001b[38;5;241;43m.\u001b[39;49m\u001b[43mreceive\u001b[49m\u001b[43m(\u001b[49m\u001b[43mmessage\u001b[49m\u001b[43m,\u001b[49m\u001b[43m \u001b[49m\u001b[38;5;28;43mself\u001b[39;49m\u001b[43m,\u001b[49m\u001b[43m \u001b[49m\u001b[43mrequest_reply\u001b[49m\u001b[43m,\u001b[49m\u001b[43m \u001b[49m\u001b[43msilent\u001b[49m\u001b[43m)\u001b[49m\n\u001b[0;32m    656\u001b[0m \u001b[38;5;28;01melse\u001b[39;00m:\n\u001b[0;32m    657\u001b[0m     \u001b[38;5;28;01mraise\u001b[39;00m \u001b[38;5;167;01mValueError\u001b[39;00m(\n\u001b[0;32m    658\u001b[0m         \u001b[38;5;124m\"\u001b[39m\u001b[38;5;124mMessage can\u001b[39m\u001b[38;5;124m'\u001b[39m\u001b[38;5;124mt be converted into a valid ChatCompletion message. Either content or function_call must be provided.\u001b[39m\u001b[38;5;124m\"\u001b[39m\n\u001b[0;32m    659\u001b[0m     )\n",
      "File \u001b[1;32mc:\\Users\\okan2\\anaconda3\\envs\\AgentsAndDragons\\Lib\\site-packages\\autogen\\agentchat\\conversable_agent.py:818\u001b[0m, in \u001b[0;36mConversableAgent.receive\u001b[1;34m(self, message, sender, request_reply, silent)\u001b[0m\n\u001b[0;32m    816\u001b[0m \u001b[38;5;28;01mif\u001b[39;00m request_reply \u001b[38;5;129;01mis\u001b[39;00m \u001b[38;5;28;01mFalse\u001b[39;00m \u001b[38;5;129;01mor\u001b[39;00m request_reply \u001b[38;5;129;01mis\u001b[39;00m \u001b[38;5;28;01mNone\u001b[39;00m \u001b[38;5;129;01mand\u001b[39;00m \u001b[38;5;28mself\u001b[39m\u001b[38;5;241m.\u001b[39mreply_at_receive[sender] \u001b[38;5;129;01mis\u001b[39;00m \u001b[38;5;28;01mFalse\u001b[39;00m:\n\u001b[0;32m    817\u001b[0m     \u001b[38;5;28;01mreturn\u001b[39;00m\n\u001b[1;32m--> 818\u001b[0m reply \u001b[38;5;241m=\u001b[39m \u001b[38;5;28;43mself\u001b[39;49m\u001b[38;5;241;43m.\u001b[39;49m\u001b[43mgenerate_reply\u001b[49m\u001b[43m(\u001b[49m\u001b[43mmessages\u001b[49m\u001b[38;5;241;43m=\u001b[39;49m\u001b[38;5;28;43mself\u001b[39;49m\u001b[38;5;241;43m.\u001b[39;49m\u001b[43mchat_messages\u001b[49m\u001b[43m[\u001b[49m\u001b[43msender\u001b[49m\u001b[43m]\u001b[49m\u001b[43m,\u001b[49m\u001b[43m \u001b[49m\u001b[43msender\u001b[49m\u001b[38;5;241;43m=\u001b[39;49m\u001b[43msender\u001b[49m\u001b[43m)\u001b[49m\n\u001b[0;32m    819\u001b[0m \u001b[38;5;28;01mif\u001b[39;00m reply \u001b[38;5;129;01mis\u001b[39;00m \u001b[38;5;129;01mnot\u001b[39;00m \u001b[38;5;28;01mNone\u001b[39;00m:\n\u001b[0;32m    820\u001b[0m     \u001b[38;5;28mself\u001b[39m\u001b[38;5;241m.\u001b[39msend(reply, sender, silent\u001b[38;5;241m=\u001b[39msilent)\n",
      "File \u001b[1;32mc:\\Users\\okan2\\anaconda3\\envs\\AgentsAndDragons\\Lib\\site-packages\\autogen\\agentchat\\conversable_agent.py:1972\u001b[0m, in \u001b[0;36mConversableAgent.generate_reply\u001b[1;34m(self, messages, sender, **kwargs)\u001b[0m\n\u001b[0;32m   1970\u001b[0m     \u001b[38;5;28;01mcontinue\u001b[39;00m\n\u001b[0;32m   1971\u001b[0m \u001b[38;5;28;01mif\u001b[39;00m \u001b[38;5;28mself\u001b[39m\u001b[38;5;241m.\u001b[39m_match_trigger(reply_func_tuple[\u001b[38;5;124m\"\u001b[39m\u001b[38;5;124mtrigger\u001b[39m\u001b[38;5;124m\"\u001b[39m], sender):\n\u001b[1;32m-> 1972\u001b[0m     final, reply \u001b[38;5;241m=\u001b[39m \u001b[43mreply_func\u001b[49m\u001b[43m(\u001b[49m\u001b[38;5;28;43mself\u001b[39;49m\u001b[43m,\u001b[49m\u001b[43m \u001b[49m\u001b[43mmessages\u001b[49m\u001b[38;5;241;43m=\u001b[39;49m\u001b[43mmessages\u001b[49m\u001b[43m,\u001b[49m\u001b[43m \u001b[49m\u001b[43msender\u001b[49m\u001b[38;5;241;43m=\u001b[39;49m\u001b[43msender\u001b[49m\u001b[43m,\u001b[49m\u001b[43m \u001b[49m\u001b[43mconfig\u001b[49m\u001b[38;5;241;43m=\u001b[39;49m\u001b[43mreply_func_tuple\u001b[49m\u001b[43m[\u001b[49m\u001b[38;5;124;43m\"\u001b[39;49m\u001b[38;5;124;43mconfig\u001b[39;49m\u001b[38;5;124;43m\"\u001b[39;49m\u001b[43m]\u001b[49m\u001b[43m)\u001b[49m\n\u001b[0;32m   1973\u001b[0m     \u001b[38;5;28;01mif\u001b[39;00m logging_enabled():\n\u001b[0;32m   1974\u001b[0m         log_event(\n\u001b[0;32m   1975\u001b[0m             \u001b[38;5;28mself\u001b[39m,\n\u001b[0;32m   1976\u001b[0m             \u001b[38;5;124m\"\u001b[39m\u001b[38;5;124mreply_func_executed\u001b[39m\u001b[38;5;124m\"\u001b[39m,\n\u001b[1;32m   (...)\u001b[0m\n\u001b[0;32m   1980\u001b[0m             reply\u001b[38;5;241m=\u001b[39mreply,\n\u001b[0;32m   1981\u001b[0m         )\n",
      "File \u001b[1;32mc:\\Users\\okan2\\anaconda3\\envs\\AgentsAndDragons\\Lib\\site-packages\\autogen\\agentchat\\contrib\\retrieve_assistant_agent.py:33\u001b[0m, in \u001b[0;36mRetrieveAssistantAgent._generate_retrieve_assistant_reply\u001b[1;34m(self, messages, sender, config)\u001b[0m\n\u001b[0;32m     31\u001b[0m     messages \u001b[38;5;241m=\u001b[39m \u001b[38;5;28mself\u001b[39m\u001b[38;5;241m.\u001b[39m_oai_messages[sender]\n\u001b[0;32m     32\u001b[0m message \u001b[38;5;241m=\u001b[39m messages[\u001b[38;5;241m-\u001b[39m\u001b[38;5;241m1\u001b[39m]\n\u001b[1;32m---> 33\u001b[0m \u001b[38;5;28;01mif\u001b[39;00m \u001b[38;5;124;43m\"\u001b[39;49m\u001b[38;5;124;43mexitcode: 0 (execution succeeded)\u001b[39;49m\u001b[38;5;124;43m\"\u001b[39;49m\u001b[43m \u001b[49m\u001b[38;5;129;43;01min\u001b[39;49;00m\u001b[43m \u001b[49m\u001b[43mmessage\u001b[49m\u001b[38;5;241;43m.\u001b[39;49m\u001b[43mget\u001b[49m\u001b[43m(\u001b[49m\u001b[38;5;124;43m\"\u001b[39;49m\u001b[38;5;124;43mcontent\u001b[39;49m\u001b[38;5;124;43m\"\u001b[39;49m\u001b[43m,\u001b[49m\u001b[43m \u001b[49m\u001b[38;5;124;43m\"\u001b[39;49m\u001b[38;5;124;43m\"\u001b[39;49m\u001b[43m)\u001b[49m:\n\u001b[0;32m     34\u001b[0m     \u001b[38;5;66;03m# Terminate the conversation when the code execution succeeds. Although sometimes even when the\u001b[39;00m\n\u001b[0;32m     35\u001b[0m     \u001b[38;5;66;03m# code execution succeeds, the task is not solved, but it's hard to tell. If the human_input_mode\u001b[39;00m\n\u001b[0;32m     36\u001b[0m     \u001b[38;5;66;03m# of RetrieveUserProxyAgent is \"TERMINATE\" or \"ALWAYS\", user can still continue the conversation.\u001b[39;00m\n\u001b[0;32m     37\u001b[0m     \u001b[38;5;28;01mreturn\u001b[39;00m \u001b[38;5;28;01mTrue\u001b[39;00m, \u001b[38;5;124m\"\u001b[39m\u001b[38;5;124mTERMINATE\u001b[39m\u001b[38;5;124m\"\u001b[39m\n\u001b[0;32m     38\u001b[0m \u001b[38;5;28;01melif\u001b[39;00m (\n\u001b[0;32m     39\u001b[0m     \u001b[38;5;124m\"\u001b[39m\u001b[38;5;124mUPDATE CONTEXT\u001b[39m\u001b[38;5;124m\"\u001b[39m \u001b[38;5;129;01min\u001b[39;00m message\u001b[38;5;241m.\u001b[39mget(\u001b[38;5;124m\"\u001b[39m\u001b[38;5;124mcontent\u001b[39m\u001b[38;5;124m\"\u001b[39m, \u001b[38;5;124m\"\u001b[39m\u001b[38;5;124m\"\u001b[39m)[\u001b[38;5;241m-\u001b[39m\u001b[38;5;241m20\u001b[39m:]\u001b[38;5;241m.\u001b[39mupper()\n\u001b[0;32m     40\u001b[0m     \u001b[38;5;129;01mor\u001b[39;00m \u001b[38;5;124m\"\u001b[39m\u001b[38;5;124mUPDATE CONTEXT\u001b[39m\u001b[38;5;124m\"\u001b[39m \u001b[38;5;129;01min\u001b[39;00m message\u001b[38;5;241m.\u001b[39mget(\u001b[38;5;124m\"\u001b[39m\u001b[38;5;124mcontent\u001b[39m\u001b[38;5;124m\"\u001b[39m, \u001b[38;5;124m\"\u001b[39m\u001b[38;5;124m\"\u001b[39m)[:\u001b[38;5;241m20\u001b[39m]\u001b[38;5;241m.\u001b[39mupper()\n\u001b[0;32m     41\u001b[0m ):\n",
      "\u001b[1;31mTypeError\u001b[0m: argument of type 'NoneType' is not iterable"
     ]
    }
   ],
   "source": [
    "warriorAgent.initiate_chat(mageAgent, context=chat.summary, message=\"Hey Mage, do you know about any weaknesses of demons?\", max_turns=4)"
   ]
  },
  {
   "cell_type": "code",
   "execution_count": null,
   "metadata": {},
   "outputs": [],
   "source": [
    "chat_results = mageAgent.initiate_chats(\n",
    "    [\n",
    "        {\n",
    "            \"recipient\": ragproxyagent,\n",
    "            \"message\": b.battlePrint,\n",
    "            \"max_turns\": 30,\n",
    "            \"summary_method\": \"reflection_with_llm\",\n",
    "            \"summary_args\": {\"summary_prompt\" : \"Summarize the monster you fought and the weaknesses you discovered.\"}\n",
    "        },\n",
    "        {\n",
    "            \"recipient\": warriorAgent,\n",
    "            \"message\": \"Hey warrior, lets discuss the \" + b.monster.name + \" we are fighting and its weaknesses.\",\n",
    "            \"max_turns\": 2,\n",
    "            \"summary_method\": \"reflection_with_llm\"\n",
    "        },\n",
    "    ]\n",
    ")\n",
    "\n",
    "print(chat_results)\n",
    "print(mageAbilityCounter)"
   ]
  },
  {
   "cell_type": "code",
   "execution_count": null,
   "metadata": {},
   "outputs": [],
   "source": [
    "ragproxyagent.initiate_chat(\n",
    "    group_chat_manager,\n",
    "    message=b.battlePrint,\n",
    "    summary_method=\"reflection_with_llm\",\n",
    ")"
   ]
  },
  {
   "cell_type": "markdown",
   "metadata": {},
   "source": [
    "## OPENAI API"
   ]
  },
  {
   "cell_type": "code",
   "execution_count": null,
   "metadata": {},
   "outputs": [],
   "source": [
    "client = OpenAI(api_key=key)\n",
    "\n",
    "my_assistants = client.beta.assistants.list(\n",
    "    order=\"desc\",\n",
    "    limit=\"20\",\n",
    ")\n",
    "\n",
    "mage = my_assistants.data[0]\n",
    "print(mage)"
   ]
  },
  {
   "cell_type": "code",
   "execution_count": null,
   "metadata": {},
   "outputs": [],
   "source": [
    "#start thread\n",
    "thread = client.beta.threads.create()\n",
    "\n",
    "#intialize moveList used for every turn\n",
    "moveList = []\n",
    "\n",
    "message = client.beta.threads.messages.create(\n",
    "    thread_id=thread.id,\n",
    "    role=\"user\",\n",
    "    content=b.battlePrint\n",
    ")\n",
    "\n",
    "# while not b.is_over:\n",
    "print(\"NEW TURN\")\n",
    "print(b.battlePrint)\n",
    "moveList = []\n",
    "\n",
    "run = client.beta.threads.runs.create(\n",
    "  thread_id=thread.id,\n",
    "  assistant_id=mage.id\n",
    ")\n",
    "\n",
    "  \n",
    "while run.status in ['queued', 'in_progress', 'cancelling']:\n",
    "  time.sleep(1) # Wait for 1 second\n",
    "  run = client.beta.threads.runs.retrieve(\n",
    "    thread_id=thread.id,\n",
    "    run_id=run.id\n",
    "  )\n",
    "\n",
    "if run.status == 'completed': \n",
    "  messages = client.beta.threads.messages.list(\n",
    "    thread_id=thread.id\n",
    "  )\n",
    "  print(messages)\n",
    "else:\n",
    "  print(run)\n",
    "\n",
    "a = json.loads(run.required_action.submit_tool_outputs.tool_calls[0].function.arguments)[\"name\"]\n",
    "print(a, type(a))\n",
    "\n",
    "# message = client.beta.threads.messages.create(\n",
    "#   thread_id=thread.id,\n",
    "#   role=\"user\",\n",
    "#   content=b.battlePrint\n",
    "# )"
   ]
  },
  {
   "cell_type": "markdown",
   "metadata": {},
   "source": [
    "## TESTCODE"
   ]
  },
  {
   "cell_type": "code",
   "execution_count": null,
   "metadata": {},
   "outputs": [],
   "source": [
    "current = b.nextTurn([\"Lightning Bolt\"])\n",
    "print(\"CURRENT\", current)"
   ]
  },
  {
   "cell_type": "code",
   "execution_count": null,
   "metadata": {},
   "outputs": [],
   "source": [
    "b.enterAttack(warrior)"
   ]
  },
  {
   "cell_type": "code",
   "execution_count": null,
   "metadata": {},
   "outputs": [],
   "source": [
    "b.enterAbility(magePlayer, \"Fireball\")"
   ]
  },
  {
   "cell_type": "code",
   "execution_count": null,
   "metadata": {},
   "outputs": [],
   "source": []
  }
 ],
 "metadata": {
  "kernelspec": {
   "display_name": "AgentsAndDragons",
   "language": "python",
   "name": "python3"
  },
  "language_info": {
   "codemirror_mode": {
    "name": "ipython",
    "version": 3
   },
   "file_extension": ".py",
   "mimetype": "text/x-python",
   "name": "python",
   "nbconvert_exporter": "python",
   "pygments_lexer": "ipython3",
   "version": "3.11.8"
  }
 },
 "nbformat": 4,
 "nbformat_minor": 2
}
