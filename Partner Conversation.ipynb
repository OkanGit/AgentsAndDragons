{
 "cells": [
  {
   "cell_type": "markdown",
   "metadata": {},
   "source": [
    "In this example, two chats are used in a sequential order. First, the mage battles a demon, which is then summarized by the internal LLM. That summary is then used as context for a conversation between the mage and the warrior, where they discuss battle strategies."
   ]
  },
  {
   "cell_type": "code",
   "execution_count": 1,
   "metadata": {},
   "outputs": [
    {
     "name": "stdout",
     "output_type": "stream",
     "text": [
      "c:\\Users\\okan2\\Desktop\\Seminar\\Code\\AgentsAndDragons\n"
     ]
    }
   ],
   "source": [
    "from Player import Player\n",
    "from Battle import Battle\n",
    "from Monster import Monster\n",
    "import time, json\n",
    "import pandas as pd\n",
    "from openai import OpenAI\n",
    "import os\n",
    "\n",
    "print(os.getcwd())"
   ]
  },
  {
   "cell_type": "code",
   "execution_count": 2,
   "metadata": {},
   "outputs": [
    {
     "name": "stdout",
     "output_type": "stream",
     "text": [
      "c:\\Users\\okan2\\Desktop\\Seminar\\Code\\AgentsAndDragons\n"
     ]
    }
   ],
   "source": [
    "from Player import Player\n",
    "from Battle import Battle\n",
    "from Monster import Monster\n",
    "import time, json\n",
    "import pandas as pd\n",
    "from openai import OpenAI\n",
    "import os\n",
    "\n",
    "print(os.getcwd())"
   ]
  },
  {
   "cell_type": "code",
   "execution_count": 3,
   "metadata": {},
   "outputs": [
    {
     "name": "stdout",
     "output_type": "stream",
     "text": [
      "A Demon draws near!\n",
      "\n",
      "Mage's HP: 120/120 | MP: 50/50\n",
      "\n",
      "Demon's HP: 150/150\n",
      "\n",
      "What will you do?\n"
     ]
    },
    {
     "data": {
      "text/plain": [
       "\"A Demon draws near!\\nMage's HP: 120/120 | MP: 50/50\\nDemon's HP: 150/150\\nWhat will you do?\""
      ]
     },
     "execution_count": 3,
     "metadata": {},
     "output_type": "execute_result"
    }
   ],
   "source": [
    "warriorPlayer = Player(\"Warrior\", 120, 30, 25, pd.read_excel(\"Abilities.xlsx\"))\n",
    "magePlayer = Player(\"Mage\", 120, 50, 25, pd.read_excel(\"Abilities.xlsx\"))\n",
    "players = [magePlayer]\n",
    "#monster = Monster(\"Slime\", 200, 200, 10, weaknesses=[\"Lightning\"])\n",
    "monster = Monster(\"Demon\", 150, 150, 20, weaknesses=[\"Fire\", \"Lightning\"])\n",
    "\n",
    "\n",
    "b = Battle(players, monster)\n",
    "b.battlePrint"
   ]
  },
  {
   "cell_type": "code",
   "execution_count": 4,
   "metadata": {},
   "outputs": [],
   "source": [
    "from apiKey import key"
   ]
  },
  {
   "cell_type": "markdown",
   "metadata": {},
   "source": [
    "## AUTOGEN"
   ]
  },
  {
   "cell_type": "code",
   "execution_count": 5,
   "metadata": {},
   "outputs": [],
   "source": [
    "from autogen.oai.openai_utils import retrieve_assistants_by_name\n",
    "from autogen import ConversableAgent, UserProxyAgent\n",
    "from autogen.agentchat.contrib.retrieve_assistant_agent import RetrieveAssistantAgent\n",
    "from autogen.agentchat.contrib.retrieve_user_proxy_agent import RetrieveUserProxyAgent\n",
    "from autogen.retrieve_utils import TEXT_FORMATS\n",
    "from typing_extensions import Annotated"
   ]
  },
  {
   "cell_type": "markdown",
   "metadata": {},
   "source": [
    "Agent Definitions"
   ]
  },
  {
   "cell_type": "code",
   "execution_count": 6,
   "metadata": {},
   "outputs": [],
   "source": [
    "mageAgent = RetrieveAssistantAgent(\n",
    "    name=\"Mage\",\n",
    "    llm_config={\"config_list\": [{\"model\": \"gpt-3.5-turbo\", \"temperature\": 1, \"api_key\": key}],\n",
    "    },\n",
    "    system_message=\"You are an AI assistant taking the role of a mage fighting a turn-based battle against an enemy.\"\n",
    "    \"You are fighting the battle with a partner warrior. He may ask you inbetween turns to discuss the next actions to take. In this case, \"\n",
    "    \"try to elaborate on the situation and say what you think the best course of action would be.\"\n",
    "    \"Remember the advice your teammate gives you when choosing your next action.\"\n",
    "    \"While you are having a conversation with your partner about the enemy, only talk to each other, do not call any functions or tools. \"\n",
    "    \n",
    "    \"Outside of the conversation with your partner, you will interact with the battle in the following way:\"\n",
    "    \"1. You will be presented with the state of the battle with the participants HP and MP values as well as everything that has happened previously.\"\n",
    "    \"2. When you are asked what you will do, you have to decide and choose the action you will enter for this turn.\"\n",
    "    \"3. First, call the function mageListAbilities to get a list of abilities available to you.\"\n",
    "    \"4. Then you will choose an ability from the list and call the function mageAbility with the name of the ability as the parameter.\"\n",
    "    \"Only call the function mageAbility once per turn.\"\n",
    "    \"The goal is to deal as much damage as possible to the enemy. Consider the damage multipliers and the attributes when choosing an ability.\"\n",
    "    \"Enemies can have weaknesses to certain attributes.\"\n",
    "    \"For example, if you know that a slime is weak to lightning, you should use Lightning Bolt instead of Fireball, even if Fireball has a higher multiplier.\"\n",
    "    \"If you have not encountered an enemy before, you do not know any weaknesses. Try out all of your abilities until you land a critical hit.\"\n",
    "    \"If the ability does not land a critical hit, you know that the enemy is not weak to the attribute of the ability you used. Try another ability in this case.\"\n",
    "    \"If you realize that one of your abilities has dealt critical damage to an enemy, you have discovered a new weakness of that enemy.\"\n",
    "    \"Be sure to remember it for the next turns and reuse it in the following turns.\"\n",
    "    \"Lay out your plan of action before executing it. Break down each step in your consideration.\"\n",
    "    \"Do not ask for any human input and execute all your decisions by calling functions every turn until the battle ends.\"\n",
    "    \"Do not ask questions while formulating your plan of action.\"\n",
    "    \"If you decide to call a function do not forget to execute the corresponding python code aswell.\"\n",
    "    \"If you run out of mana, you can either use another ability with lower mana costs or, if you cannot use any other abilities, use a simple attack with the function mageAttack, since a simple attack does not use any MP.\"\n",
    "    \"Instead of using an ability or attacking, you may also defend with the function mageDefend. This will protect you from some damage.\"\n",
    "    \"Repeat the above steps as long as the battle has not ended. The battle is only over if you receive a message about either Victory or Defeat.\"\n",
    "    \"There will be no termination until the enemy is defeated. Always move forward with your actions, do not wait and do not ask for any human input.\"\n",
    "    \"This means, if you decide to choose a specific ability, immediately call the corresponding function.\"\n",
    "    #\"Always continue the battle until it is over. Do not terminate until the battle is over.\"\n",
    "    \"When the battle ends, reply with TERMINATE.\"\n",
    ")"
   ]
  },
  {
   "cell_type": "code",
   "execution_count": 7,
   "metadata": {},
   "outputs": [],
   "source": [
    "warriorAgent = RetrieveAssistantAgent(\n",
    "    name=\"Warrior\",\n",
    "    llm_config={\"config_list\": [{\"model\": \"gpt-3.5-turbo\", \"temperature\": 1, \"api_key\": key}],\n",
    "    },\n",
    "    system_message=\"You are an AI assistant taking the role of a warrior fighting a turn-based battle against an enemy.\"\n",
    "    \"You are fighting the battle with a partner mage. He may ask you inbetween turns to discuss the next actions to take. In this case, \"\n",
    "    \"try to elaborate on the situation and say what you think the best course of action would be.\"\n",
    "    \"Remember the advice your teammate gives you when choosing your next action.\"\n",
    "    \"While you are having a conversation with your partner about the enemy, only talk to each other, do not call any functions or tools. \"\n",
    "    \n",
    "    \"Outside of the conversation with your partner, you will interact with the battle in the following way:\"\n",
    "    \"1. You will be presented with the state of the battle with the participants HP and MP values as well as everything that has happened previously.\"\n",
    "    \"2. When you are asked what you will do, you have to decide and choose the action you will enter for this turn.\"\n",
    "    \"3. First, call the function warriorListAbilities to get a list of abilities available to you.\"\n",
    "    \"4. Then you will choose an ability from the list and call the function warriorAbility with the name of the ability as the parameter.\"\n",
    "    \"Only call the function warriorAbility once per turn.\"\n",
    "    \"The goal is to deal as much damage as possible to the enemy. Consider the damage multipliers and the attributes when choosing an ability.\"\n",
    "    \"Enemies can have weaknesses to certain attributes.\"\n",
    "    \"For example, if you know that a slime is weak to lightning, you should use Lightning Bolt instead of Fireball, even if Fireball has a higher multiplier.\"\n",
    "    \"If you have not encountered an enemy before, you do not know any weaknesses. Try out all of your abilities until you land a critical hit.\"\n",
    "    \"If the ability does not land a critical hit, you know that the enemy is not weak to the attribute of the ability you used. Try another ability in this case.\"\n",
    "    \"If you realize that one of your abilities has dealt critical damage to an enemy, you have discovered a new weakness of that enemy.\"\n",
    "    \"Be sure to remember it for the next turns and reuse it in the following turns.\"\n",
    "    \"Lay out your plan of action before executing it. Break down each step in your consideration.\"\n",
    "    \"Do not ask for any human input and execute all your decisions by calling functions every turn until the battle ends.\"\n",
    "    \"Do not ask questions while formulating your plan of action.\"\n",
    "    \"If you decide to call a function do not forget to execute the corresponding python code aswell.\"\n",
    "    \"If you run out of mana, you can either use another ability with lower mana costs or, if you cannot use any other abilities, use a simple attack with the function warriorAttack, since a simple attack does not use any MP.\"\n",
    "    \"Instead of using an ability or attacking, you may also defend with the function warriorDefend. This will protect you from some damage.\"\n",
    "    \"Repeat the above steps as long as the battle has not ended. The battle is only over if you receive a message about either Victory or Defeat.\"\n",
    "    \"There will be no termination until the enemy is defeated. Always move forward with your actions, do not wait and do not ask for any human input.\"\n",
    "    \"This means, if you decide to choose a specific ability, immediately call the corresponding function.\"\n",
    "    #\"Always continue the battle until it is over. Do not terminate until the battle is over.\"\n",
    "    \"When the battle ends, reply with TERMINATE.\"\n",
    ")"
   ]
  },
  {
   "cell_type": "code",
   "execution_count": 8,
   "metadata": {},
   "outputs": [
    {
     "name": "stderr",
     "output_type": "stream",
     "text": [
      "c:\\Users\\okan2\\anaconda3\\envs\\AgentsAndDragons\\Lib\\site-packages\\tqdm\\auto.py:21: TqdmWarning: IProgress not found. Please update jupyter and ipywidgets. See https://ipywidgets.readthedocs.io/en/stable/user_install.html\n",
      "  from .autonotebook import tqdm as notebook_tqdm\n"
     ]
    }
   ],
   "source": [
    "ragproxyagent = RetrieveUserProxyAgent(\n",
    "    name=\"ragproxyagent\",\n",
    "    human_input_mode=\"NEVER\",\n",
    "    default_auto_reply=\"Ok\",\n",
    "    max_consecutive_auto_reply=20,\n",
    "    retrieve_config={\n",
    "        \"docs_path\": [\n",
    "            \"Abilities.csv\"\n",
    "        ],\n",
    "        \"embedding_model\": \"all-mpnet-base-v2\",\n",
    "        \"get_or_create\": True,\n",
    "        \"last_n_messages\" : 1\n",
    "    },\n",
    "    is_termination_msg=lambda x: x.get(\"content\", \"\") and x.get(\"content\", \"\").rstrip().endswith(\"TERMINATE\"),\n",
    "    code_execution_config={\n",
    "        \"work_dir\": os.getcwd(),\n",
    "        \"use_docker\": False,\n",
    "    },  # set to False if you don't want to execute the code\n",
    "    \n",
    ")"
   ]
  },
  {
   "cell_type": "code",
   "execution_count": 9,
   "metadata": {},
   "outputs": [],
   "source": [
    "from autogen import GroupChat\n",
    "from autogen import GroupChatManager\n",
    "\n",
    "group_chat = GroupChat(\n",
    "    agents=[mageAgent, warriorAgent],\n",
    "    messages=[],\n",
    "    max_round=4,\n",
    "    speaker_selection_method=\"round_robin\",\n",
    ")\n",
    "\n",
    "group_chat_manager = GroupChatManager(\n",
    "    groupchat=group_chat,\n",
    "    llm_config={\"config_list\": [{\"model\": \"gpt-3.5-turbo\", \"temperature\": 1, \"api_key\": key}]},\n",
    ")"
   ]
  },
  {
   "cell_type": "markdown",
   "metadata": {},
   "source": [
    "Mage Abilities"
   ]
  },
  {
   "cell_type": "code",
   "execution_count": 10,
   "metadata": {},
   "outputs": [],
   "source": [
    "mageAbilityCounter = {\"attack\" : 0,\n",
    "                      \"abilityList\" : 0,\n",
    "                      \"ability\" : 0,\n",
    "                      \"defend\" : 0\n",
    "                      }\n",
    "\n",
    "# @group_chat_manager.register_for_execution()\n",
    "@ragproxyagent.register_for_execution()\n",
    "@mageAgent.register_for_llm(name=\"mageListAbilities\", description=\"Returns a dataframe with details of the mages abilities\")\n",
    "def mageListAbilities() -> pd.DataFrame:\n",
    "    mageAbilityCounter[\"abilityList\"] += 1\n",
    "    return pd.read_csv(\"Abilities.csv\", sep=\";\").to_json()\n",
    "\n",
    "# @group_chat_manager.register_for_execution()\n",
    "@ragproxyagent.register_for_execution()\n",
    "@mageAgent.register_for_llm(name=\"mageAbility\", description=\"Execute the ability of the mage\")\n",
    "def mageAbility(name : Annotated[str, \"Name of the used ability\"]) -> str:\n",
    "    b.enterAbility(magePlayer, name)\n",
    "    mageAbilityCounter[\"ability\"] += 1\n",
    "    return b.battlePrint\n",
    "\n",
    "# @group_chat_manager.register_for_execution()\n",
    "@ragproxyagent.register_for_execution()\n",
    "@mageAgent.register_for_llm(name=\"mageAttack\", description=\"Attack the enemy\")\n",
    "def mageAttack() -> str:\n",
    "    b.enterAttack(magePlayer)\n",
    "    mageAbilityCounter[\"attack\"] += 1\n",
    "    return b.battlePrint\n",
    "\n",
    "# @group_chat_manager.register_for_execution()\n",
    "@ragproxyagent.register_for_execution()\n",
    "@mageAgent.register_for_llm(name=\"mageDefend\", description=\"Defends against incoming attacks\")\n",
    "def mageAttack() -> str:\n",
    "    b.enterDefend(magePlayer)\n",
    "    mageAbilityCounter[\"defend\"] += 1\n",
    "    return b.battlePrint"
   ]
  },
  {
   "cell_type": "code",
   "execution_count": 11,
   "metadata": {},
   "outputs": [
    {
     "name": "stdout",
     "output_type": "stream",
     "text": [
      "\u001b[92m\n",
      "CLEARING MEMORY\u001b[0m\n"
     ]
    }
   ],
   "source": [
    "from autogen.agentchat.contrib.capabilities import teachability\n",
    "from autogen import register_function\n",
    "\n",
    "# Instantiate the Teachability capability. Its parameters are all optional.\n",
    "teachability = teachability.Teachability(\n",
    "    verbosity=0,  # 0 for basic info, 1 to add memory operations, 2 for analyzer messages, 3 for memo lists.\n",
    "    reset_db=True,\n",
    "    path_to_db_dir=\"experience.db\",\n",
    "    recall_threshold=1.5,  # Higher numbers allow more (but less relevant) memos to be recalled.\n",
    ")\n",
    "\n",
    "# Now add the Teachability capability to the agent.\n",
    "#teachability.add_to_agent(mageAgent)"
   ]
  },
  {
   "cell_type": "markdown",
   "metadata": {},
   "source": [
    "Warrior Abilities"
   ]
  },
  {
   "cell_type": "code",
   "execution_count": 12,
   "metadata": {},
   "outputs": [],
   "source": [
    "warriorAbilityCounter = {\"attack\" : 0,\n",
    "                      \"abilityList\" : 0,\n",
    "                      \"ability\" : 0,\n",
    "                      \"defend\" : 0\n",
    "                      }\n",
    "\n",
    "@group_chat_manager.register_for_execution()\n",
    "@ragproxyagent.register_for_execution()\n",
    "@warriorAgent.register_for_llm(name=\"warriorListAbilities\", description=\"Returns a dataframe with details of the warriors abilities\")\n",
    "def warriorListAbilities() -> pd.DataFrame:\n",
    "    return pd.read_csv(\"Abilities.csv\", sep=\";\").to_json()\n",
    "\n",
    "@group_chat_manager.register_for_execution()\n",
    "@ragproxyagent.register_for_execution()\n",
    "@warriorAgent.register_for_llm(name=\"warriorAbility\", description=\"Execute the ability of the warrior\")\n",
    "def warriorAbility(name : Annotated[str, \"Name of the used ability\"]) -> str:\n",
    "    b.enterAbility(warriorPlayer, name)\n",
    "    return b.battlePrint\n",
    "\n",
    "@group_chat_manager.register_for_execution()\n",
    "@ragproxyagent.register_for_execution()\n",
    "@warriorAgent.register_for_llm(name=\"warriorAttack\", description=\"Attack the enemy\")\n",
    "def warriorAttack() -> str:\n",
    "    b.enterAttack(warriorPlayer)\n",
    "    return b.battlePrint\n",
    "\n",
    "@group_chat_manager.register_for_execution()\n",
    "@ragproxyagent.register_for_execution()\n",
    "@warriorAgent.register_for_llm(name=\"warriorDefend\", description=\"Defends against incoming attacks\")\n",
    "def warriorDefend() -> str:\n",
    "    b.enterDefend(warriorPlayer)\n",
    "    warriorAbilityCounter[\"defend\"] += 1\n",
    "    return b.battlePrint"
   ]
  },
  {
   "cell_type": "code",
   "execution_count": 13,
   "metadata": {},
   "outputs": [],
   "source": [
    "mageAgent.description = \"A magician taking part in the battle.\"\n",
    "warriorAgent.description = \"A warrior taking part in the battle.\""
   ]
  },
  {
   "cell_type": "markdown",
   "metadata": {},
   "source": [
    "Chat Initiation"
   ]
  },
  {
   "cell_type": "code",
   "execution_count": 14,
   "metadata": {},
   "outputs": [],
   "source": [
    "mageAgent.reset()\n",
    "ragproxyagent.reset()"
   ]
  },
  {
   "cell_type": "code",
   "execution_count": 15,
   "metadata": {},
   "outputs": [
    {
     "name": "stdout",
     "output_type": "stream",
     "text": [
      "\u001b[34m\n",
      "********************************************************************************\u001b[0m\n",
      "\u001b[34mStarting a new chat....\u001b[0m\n",
      "\u001b[34m\n",
      "********************************************************************************\u001b[0m\n",
      "\u001b[33mMage\u001b[0m (to ragproxyagent):\n",
      "\n",
      "A Demon draws near!\n",
      "Mage's HP: 120/120 | MP: 50/50\n",
      "Demon's HP: 150/150\n",
      "What will you do?\n",
      "\n",
      "--------------------------------------------------------------------------------\n",
      "\u001b[33mragproxyagent\u001b[0m (to Mage):\n",
      "\n",
      "Ok\n",
      "\n",
      "--------------------------------------------------------------------------------\n",
      "\u001b[33mMage\u001b[0m (to ragproxyagent):\n",
      "\n",
      "\u001b[32m***** Suggested tool call (call_YU3TirhXelKJksgtVSHCpFK9): mageListAbilities *****\u001b[0m\n",
      "Arguments: \n",
      "{}\n",
      "\u001b[32m**********************************************************************************\u001b[0m\n",
      "\n",
      "--------------------------------------------------------------------------------\n",
      "\u001b[35m\n",
      ">>>>>>>> EXECUTING FUNCTION mageListAbilities...\u001b[0m\n"
     ]
    },
    {
     "name": "stderr",
     "output_type": "stream",
     "text": [
      "[runtime logging] log_function_use: autogen logger is None\n"
     ]
    },
    {
     "name": "stdout",
     "output_type": "stream",
     "text": [
      "\u001b[33mragproxyagent\u001b[0m (to Mage):\n",
      "\n",
      "\u001b[33mragproxyagent\u001b[0m (to Mage):\n",
      "\n",
      "\u001b[32m***** Response from calling tool (call_YU3TirhXelKJksgtVSHCpFK9) *****\u001b[0m\n",
      "{\"Name\":{\"0\":\"Fireball\",\"1\":\"Lightning Bolt\",\"2\":\"Icecicle\",\"3\":\"Dark Obliteration\",\"4\":\"Inferno\",\"5\":\"Magic Explosion\"},\"Description\":{\"0\":\"Shoots a small fireball at the enemy\",\"1\":\"Zaps the enemy with the power of lightning\",\"2\":\"Drops an icecicle on the enemy from above\",\"3\":\"Conjures shadows to crush foes, inflicting heavy damage.\",\"4\":\"Engulfs enemies in flames, causing widespread damage.\",\"5\":\"Creates a huge explosion using the full power of the user's magic.\"},\"Damage Multiplier\":{\"0\":\"1,10\",\"1\":\"1,05\",\"2\":\"1,10\",\"3\":\"2,00\",\"4\":\"1,50\",\"5\":\"2,50\"},\"Attributes\":{\"0\":\"Fire\",\"1\":\"Lightning\",\"2\":\"Ice\",\"3\":\"Dark\",\"4\":\"Fire\",\"5\":\"Light\"},\"Cost\":{\"0\":5,\"1\":10,\"2\":8,\"3\":30,\"4\":20,\"5\":50}}\n",
      "\u001b[32m**********************************************************************\u001b[0m\n",
      "\n",
      "--------------------------------------------------------------------------------\n",
      "\u001b[33mMage\u001b[0m (to ragproxyagent):\n",
      "\n",
      "Our abilities are Fireball, Lightning Bolt, Icecicle, Dark Obliteration, Inferno, and Magic Explosion. Each ability has its own damage multiplier, elemental attribute, and mana cost. \n",
      "\n",
      "The Demon's weaknesses are unknown at the moment, so we should test different abilities to discover its elemental vulnerability. Let's start with Lightning Bolt as it has a decent multiplier and relatively low mana cost.\n",
      "\n",
      "What ability should we use next?\n",
      "\n",
      "--------------------------------------------------------------------------------\n",
      "\u001b[33mragproxyagent\u001b[0m (to Mage):\n",
      "\n",
      "Ok\n",
      "\n",
      "--------------------------------------------------------------------------------\n",
      "\u001b[33mMage\u001b[0m (to ragproxyagent):\n",
      "\n",
      "\u001b[32m***** Suggested tool call (call_8HnlnVplZlg27q0xk8HckaAS): mageAbility *****\u001b[0m\n",
      "Arguments: \n",
      "{\"name\":\"Lightning Bolt\"}\n",
      "\u001b[32m****************************************************************************\u001b[0m\n",
      "\n",
      "--------------------------------------------------------------------------------\n",
      "\u001b[35m\n",
      ">>>>>>>> EXECUTING FUNCTION mageAbility...\u001b[0m\n"
     ]
    },
    {
     "name": "stderr",
     "output_type": "stream",
     "text": [
      "[runtime logging] log_function_use: autogen logger is None\n"
     ]
    },
    {
     "name": "stdout",
     "output_type": "stream",
     "text": [
      "Mage has selected Lightning Bolt\n",
      "\n",
      "Mage's turn:Mage uses Lightning Bolt! Mage deals 26.25 damage to Demon!\n",
      "Monster's turn:Demon attacks! Demon deals 18 damage to Mage!\n",
      "\n",
      "Mage's HP: 102/120 | MP: 40/50\n",
      "\n",
      "Demon's HP: 123.75/150\n",
      "\n",
      "What will you do?\n",
      "Turn executed\n",
      "\u001b[33mragproxyagent\u001b[0m (to Mage):\n",
      "\n",
      "\u001b[33mragproxyagent\u001b[0m (to Mage):\n",
      "\n",
      "\u001b[32m***** Response from calling tool (call_8HnlnVplZlg27q0xk8HckaAS) *****\u001b[0m\n",
      "\n",
      "Mage's turn:Mage uses Lightning Bolt! Mage deals 26.25 damage to Demon!\n",
      "Monster's turn:Demon attacks! Demon deals 18 damage to Mage!\n",
      "Mage's HP: 102/120 | MP: 40/50\n",
      "Demon's HP: 123.75/150\n",
      "What will you do?\n",
      "\u001b[32m**********************************************************************\u001b[0m\n",
      "\n",
      "--------------------------------------------------------------------------------\n",
      "\u001b[33mMage\u001b[0m (to ragproxyagent):\n",
      "\n",
      "The Lightning Bolt ability dealt 26.25 damage to the Demon. The Demon's health is now 123.75/150.\n",
      "\n",
      "Since Lightning Bolt was effective, we should continue using it to exploit the Demon's weakness. Let's use Lightning Bolt again.\n",
      "\n",
      "What's your next move?\n",
      "\n",
      "--------------------------------------------------------------------------------\n",
      "\u001b[33mragproxyagent\u001b[0m (to Mage):\n",
      "\n",
      "Ok\n",
      "\n",
      "--------------------------------------------------------------------------------\n",
      "\u001b[33mMage\u001b[0m (to ragproxyagent):\n",
      "\n",
      "\u001b[32m***** Suggested tool call (call_lGyErVYtkDfx3uuDPb7Qi10Z): mageAbility *****\u001b[0m\n",
      "Arguments: \n",
      "{\"name\":\"Lightning Bolt\"}\n",
      "\u001b[32m****************************************************************************\u001b[0m\n",
      "\n",
      "--------------------------------------------------------------------------------\n",
      "\u001b[35m\n",
      ">>>>>>>> EXECUTING FUNCTION mageAbility...\u001b[0m\n"
     ]
    },
    {
     "name": "stderr",
     "output_type": "stream",
     "text": [
      "[runtime logging] log_function_use: autogen logger is None\n"
     ]
    },
    {
     "name": "stdout",
     "output_type": "stream",
     "text": [
      "Mage has selected Lightning Bolt\n",
      "\n",
      "Mage's turn:Mage uses Lightning Bolt! Mage deals 26.25 damage to Demon!\n",
      "Monster's turn:Demon attacks! Demon deals 22 damage to Mage!\n",
      "\n",
      "Mage's HP: 80/120 | MP: 30/50\n",
      "\n",
      "Demon's HP: 97.5/150\n",
      "\n",
      "What will you do?\n",
      "Turn executed\n",
      "\u001b[33mragproxyagent\u001b[0m (to Mage):\n",
      "\n",
      "\u001b[33mragproxyagent\u001b[0m (to Mage):\n",
      "\n",
      "\u001b[32m***** Response from calling tool (call_lGyErVYtkDfx3uuDPb7Qi10Z) *****\u001b[0m\n",
      "\n",
      "Mage's turn:Mage uses Lightning Bolt! Mage deals 26.25 damage to Demon!\n",
      "Monster's turn:Demon attacks! Demon deals 22 damage to Mage!\n",
      "Mage's HP: 80/120 | MP: 30/50\n",
      "Demon's HP: 97.5/150\n",
      "What will you do?\n",
      "\u001b[32m**********************************************************************\u001b[0m\n",
      "\n",
      "--------------------------------------------------------------------------------\n",
      "\u001b[33mMage\u001b[0m (to ragproxyagent):\n",
      "\n",
      "The Lightning Bolt ability dealt 26.25 damage to the Demon again, bringing its health down to 97.5/150.\n",
      "\n",
      "We should keep using Lightning Bolt since it's effective. Let's use it once more.\n",
      "\n",
      "What's your decision for the next turn?\n",
      "\n",
      "--------------------------------------------------------------------------------\n",
      "\u001b[33mragproxyagent\u001b[0m (to Mage):\n",
      "\n",
      "Ok\n",
      "\n",
      "--------------------------------------------------------------------------------\n",
      "\u001b[33mMage\u001b[0m (to ragproxyagent):\n",
      "\n",
      "\u001b[32m***** Suggested tool call (call_0iBVx6fwgzAwnKx5EFsm4WGb): mageAbility *****\u001b[0m\n",
      "Arguments: \n",
      "{\"name\":\"Lightning Bolt\"}\n",
      "\u001b[32m****************************************************************************\u001b[0m\n",
      "\n",
      "--------------------------------------------------------------------------------\n",
      "\u001b[35m\n",
      ">>>>>>>> EXECUTING FUNCTION mageAbility...\u001b[0m\n"
     ]
    },
    {
     "name": "stderr",
     "output_type": "stream",
     "text": [
      "[runtime logging] log_function_use: autogen logger is None\n"
     ]
    },
    {
     "name": "stdout",
     "output_type": "stream",
     "text": [
      "Mage has selected Lightning Bolt\n",
      "\n",
      "Mage's turn:Mage uses Lightning Bolt! Mage deals 30.450000000000003 damage to Demon!\n",
      "Monster's turn:Demon attacks! Demon deals 21 damage to Mage!\n",
      "\n",
      "Mage's HP: 59/120 | MP: 20/50\n",
      "\n",
      "Demon's HP: 67.05/150\n",
      "\n",
      "What will you do?\n",
      "Turn executed\n",
      "\u001b[33mragproxyagent\u001b[0m (to Mage):\n",
      "\n",
      "\u001b[33mragproxyagent\u001b[0m (to Mage):\n",
      "\n",
      "\u001b[32m***** Response from calling tool (call_0iBVx6fwgzAwnKx5EFsm4WGb) *****\u001b[0m\n",
      "\n",
      "Mage's turn:Mage uses Lightning Bolt! Mage deals 30.450000000000003 damage to Demon!\n",
      "Monster's turn:Demon attacks! Demon deals 21 damage to Mage!\n",
      "Mage's HP: 59/120 | MP: 20/50\n",
      "Demon's HP: 67.05/150\n",
      "What will you do?\n",
      "\u001b[32m**********************************************************************\u001b[0m\n",
      "\n",
      "--------------------------------------------------------------------------------\n",
      "\u001b[33mMage\u001b[0m (to ragproxyagent):\n",
      "\n",
      "The Lightning Bolt ability dealt 30.45 damage to the Demon, further lowering its health to 67.05/150.\n",
      "\n",
      "Since Lightning Bolt continues to be effective, let's stick with it for the next turn as well.\n",
      "\n",
      "What will your next action be?\n",
      "\n",
      "--------------------------------------------------------------------------------\n",
      "\u001b[33mragproxyagent\u001b[0m (to Mage):\n",
      "\n",
      "Ok\n",
      "\n",
      "--------------------------------------------------------------------------------\n",
      "\u001b[33mMage\u001b[0m (to ragproxyagent):\n",
      "\n",
      "\u001b[32m***** Suggested tool call (call_UfK940jvHrbTcwI6zQ1tieI3): mageAbility *****\u001b[0m\n",
      "Arguments: \n",
      "{\"name\":\"Lightning Bolt\"}\n",
      "\u001b[32m****************************************************************************\u001b[0m\n",
      "\n",
      "--------------------------------------------------------------------------------\n",
      "\u001b[35m\n",
      ">>>>>>>> EXECUTING FUNCTION mageAbility...\u001b[0m\n"
     ]
    },
    {
     "name": "stderr",
     "output_type": "stream",
     "text": [
      "[runtime logging] log_function_use: autogen logger is None\n"
     ]
    },
    {
     "name": "stdout",
     "output_type": "stream",
     "text": [
      "Mage has selected Lightning Bolt\n",
      "\n",
      "Mage's turn:Mage uses Lightning Bolt! Mage deals 22.05 damage to Demon!\n",
      "Monster's turn:Demon attacks! Demon deals 20 damage to Mage!\n",
      "\n",
      "Mage's HP: 39/120 | MP: 10/50\n",
      "\n",
      "Demon's HP: 45.0/150\n",
      "\n",
      "What will you do?\n",
      "Turn executed\n",
      "\u001b[33mragproxyagent\u001b[0m (to Mage):\n",
      "\n",
      "\u001b[33mragproxyagent\u001b[0m (to Mage):\n",
      "\n",
      "\u001b[32m***** Response from calling tool (call_UfK940jvHrbTcwI6zQ1tieI3) *****\u001b[0m\n",
      "\n",
      "Mage's turn:Mage uses Lightning Bolt! Mage deals 22.05 damage to Demon!\n",
      "Monster's turn:Demon attacks! Demon deals 20 damage to Mage!\n",
      "Mage's HP: 39/120 | MP: 10/50\n",
      "Demon's HP: 45.0/150\n",
      "What will you do?\n",
      "\u001b[32m**********************************************************************\u001b[0m\n",
      "\n",
      "--------------------------------------------------------------------------------\n",
      "\u001b[33mMage\u001b[0m (to ragproxyagent):\n",
      "\n",
      "The Lightning Bolt ability dealt 22.05 damage to the Demon, reducing its health to 45.0/150.\n",
      "\n",
      "As Lightning Bolt is still effective, we should continue using it to defeat the Demon. Let's use Lightning Bolt again for the next turn.\n",
      "\n",
      "What's your decision for the upcoming action?\n",
      "\n",
      "--------------------------------------------------------------------------------\n",
      "\u001b[33mragproxyagent\u001b[0m (to Mage):\n",
      "\n",
      "Ok\n",
      "\n",
      "--------------------------------------------------------------------------------\n",
      "\u001b[33mMage\u001b[0m (to ragproxyagent):\n",
      "\n",
      "\u001b[32m***** Suggested tool call (call_InhFSyrLwtB5Amvu6sjrEXoz): mageAbility *****\u001b[0m\n",
      "Arguments: \n",
      "{\"name\":\"Lightning Bolt\"}\n",
      "\u001b[32m****************************************************************************\u001b[0m\n",
      "\n",
      "--------------------------------------------------------------------------------\n",
      "\u001b[35m\n",
      ">>>>>>>> EXECUTING FUNCTION mageAbility...\u001b[0m\n"
     ]
    },
    {
     "name": "stderr",
     "output_type": "stream",
     "text": [
      "[runtime logging] log_function_use: autogen logger is None\n"
     ]
    },
    {
     "name": "stdout",
     "output_type": "stream",
     "text": [
      "Mage has selected Lightning Bolt\n",
      "\n",
      "Mage's turn:Mage uses Lightning Bolt! Mage deals 22.05 damage to Demon!\n",
      "Monster's turn:Demon attacks! Demon deals 18 damage to Mage!\n",
      "\n",
      "Mage's HP: 21/120 | MP: 0/50\n",
      "\n",
      "Demon's HP: 22.95/150\n",
      "\n",
      "What will you do?\n",
      "Turn executed\n",
      "\u001b[33mragproxyagent\u001b[0m (to Mage):\n",
      "\n",
      "\u001b[33mragproxyagent\u001b[0m (to Mage):\n",
      "\n",
      "\u001b[32m***** Response from calling tool (call_InhFSyrLwtB5Amvu6sjrEXoz) *****\u001b[0m\n",
      "\n",
      "Mage's turn:Mage uses Lightning Bolt! Mage deals 22.05 damage to Demon!\n",
      "Monster's turn:Demon attacks! Demon deals 18 damage to Mage!\n",
      "Mage's HP: 21/120 | MP: 0/50\n",
      "Demon's HP: 22.95/150\n",
      "What will you do?\n",
      "\u001b[32m**********************************************************************\u001b[0m\n",
      "\n",
      "--------------------------------------------------------------------------------\n",
      "\u001b[33mMage\u001b[0m (to ragproxyagent):\n",
      "\n",
      "The Lightning Bolt ability dealt 22.05 damage to the Demon, bringing its health down to 22.95/150.\n",
      "\n",
      "We have run out of mana, so we cannot use Lightning Bolt anymore. In this case, let's resort to a basic attack by using the mageAttack function.\n",
      "\n",
      "What will be your next action?\n",
      "\n",
      "--------------------------------------------------------------------------------\n",
      "\u001b[33mragproxyagent\u001b[0m (to Mage):\n",
      "\n",
      "Ok\n",
      "\n",
      "--------------------------------------------------------------------------------\n",
      "\u001b[33mMage\u001b[0m (to ragproxyagent):\n",
      "\n",
      "\u001b[32m***** Suggested tool call (call_nXMwixbUb4iMjLlMPExHuqi9): mageAttack *****\u001b[0m\n",
      "Arguments: \n",
      "{}\n",
      "\u001b[32m***************************************************************************\u001b[0m\n",
      "\n",
      "--------------------------------------------------------------------------------\n",
      "\u001b[35m\n",
      ">>>>>>>> EXECUTING FUNCTION mageAttack...\u001b[0m\n"
     ]
    },
    {
     "name": "stderr",
     "output_type": "stream",
     "text": [
      "[runtime logging] log_function_use: autogen logger is None\n"
     ]
    },
    {
     "name": "stdout",
     "output_type": "stream",
     "text": [
      "Mage has selected attack\n",
      "\n",
      "Mage's turn:Mage attacks! Mage deals 23 damage to Demon!\n",
      "\n",
      "Mage's HP: 21/120 | MP: 0/50\n",
      "\n",
      "Demon's HP: 0/150\n",
      "\n",
      "\n",
      "Victory! Mage defeated Demon!\n",
      "Turn executed\n",
      "\u001b[33mragproxyagent\u001b[0m (to Mage):\n",
      "\n",
      "\u001b[33mragproxyagent\u001b[0m (to Mage):\n",
      "\n",
      "\u001b[32m***** Response from calling tool (call_nXMwixbUb4iMjLlMPExHuqi9) *****\u001b[0m\n",
      "\n",
      "Mage's turn:Mage attacks! Mage deals 23 damage to Demon!\n",
      "Mage's HP: 21/120 | MP: 0/50\n",
      "Demon's HP: 0/150\n",
      "\n",
      "Victory! Mage defeated Demon!\n",
      "\u001b[32m**********************************************************************\u001b[0m\n",
      "\n",
      "--------------------------------------------------------------------------------\n",
      "\u001b[33mMage\u001b[0m (to ragproxyagent):\n",
      "\n",
      "TERMINATE\n",
      "\n",
      "--------------------------------------------------------------------------------\n",
      "\u001b[34m\n",
      "********************************************************************************\u001b[0m\n",
      "\u001b[34mStarting a new chat....\u001b[0m\n",
      "\u001b[34m\n",
      "********************************************************************************\u001b[0m\n",
      "\u001b[33mMage\u001b[0m (to Warrior):\n",
      "\n",
      "Hey warrior, lets discuss the Demon we are fighting and its weaknesses.\n",
      "Context: \n",
      "The Mage defeated a Demon in battle by using the Lightning Bolt ability multiple times. The Demon's weakness was discovered to be vulnerable to lightning-based attacks. The Mage strategically exploited this weakness to defeat the Demon efficiently.\n",
      "\n",
      "--------------------------------------------------------------------------------\n",
      "\u001b[33mWarrior\u001b[0m (to Mage):\n",
      "\n",
      "That's great to know about the Demon's weakness to lightning-based attacks. Lightning Bolt seems to be a powerful choice against this enemy. Since the Mage was able to defeat the Demon efficiently by repeatedly using Lightning Bolt, we should focus on utilizing that ability. Let's prioritize using Lightning Bolt for maximum damage. If needed, I can also support with other abilities or regular attacks to maintain our offensive strategy. Let's be prepared to exploit the weakness and deal significant damage in our upcoming turns.\n",
      "\n",
      "--------------------------------------------------------------------------------\n",
      "\u001b[33mMage\u001b[0m (to Warrior):\n",
      "\n",
      "Understood. I will focus on using Lightning Bolt to exploit the Demon's weakness to lightning-based attacks. I will prioritize this ability to deal maximum damage. If the mana runs low, I will consider using basic attacks to continue the offensive. Let's maintain our strategy and exploit the weakness to defeat the Demon efficiently.\n",
      "\n",
      "--------------------------------------------------------------------------------\n",
      "\u001b[33mWarrior\u001b[0m (to Mage):\n",
      "\n",
      "That sounds like a solid plan. By prioritizing Lightning Bolt and being mindful of mana management, we can maintain a consistent offensive and exploit the Demon's weakness effectively. Remember to adapt our strategy if needed, but let's keep pushing with the lightning-based attacks to secure victory. Let's stay focused and execute our plan to defeat the Demon efficiently.\n",
      "\n",
      "--------------------------------------------------------------------------------\n",
      "[ChatResult(chat_id=None, chat_history=[{'content': \"A Demon draws near!\\nMage's HP: 120/120 | MP: 50/50\\nDemon's HP: 150/150\\nWhat will you do?\", 'role': 'assistant'}, {'content': 'Ok', 'role': 'user'}, {'tool_calls': [{'id': 'call_YU3TirhXelKJksgtVSHCpFK9', 'function': {'arguments': '{}', 'name': 'mageListAbilities'}, 'type': 'function'}], 'content': None, 'role': 'assistant'}, {'content': '{\"Name\":{\"0\":\"Fireball\",\"1\":\"Lightning Bolt\",\"2\":\"Icecicle\",\"3\":\"Dark Obliteration\",\"4\":\"Inferno\",\"5\":\"Magic Explosion\"},\"Description\":{\"0\":\"Shoots a small fireball at the enemy\",\"1\":\"Zaps the enemy with the power of lightning\",\"2\":\"Drops an icecicle on the enemy from above\",\"3\":\"Conjures shadows to crush foes, inflicting heavy damage.\",\"4\":\"Engulfs enemies in flames, causing widespread damage.\",\"5\":\"Creates a huge explosion using the full power of the user\\'s magic.\"},\"Damage Multiplier\":{\"0\":\"1,10\",\"1\":\"1,05\",\"2\":\"1,10\",\"3\":\"2,00\",\"4\":\"1,50\",\"5\":\"2,50\"},\"Attributes\":{\"0\":\"Fire\",\"1\":\"Lightning\",\"2\":\"Ice\",\"3\":\"Dark\",\"4\":\"Fire\",\"5\":\"Light\"},\"Cost\":{\"0\":5,\"1\":10,\"2\":8,\"3\":30,\"4\":20,\"5\":50}}', 'tool_responses': [{'tool_call_id': 'call_YU3TirhXelKJksgtVSHCpFK9', 'role': 'tool', 'content': '{\"Name\":{\"0\":\"Fireball\",\"1\":\"Lightning Bolt\",\"2\":\"Icecicle\",\"3\":\"Dark Obliteration\",\"4\":\"Inferno\",\"5\":\"Magic Explosion\"},\"Description\":{\"0\":\"Shoots a small fireball at the enemy\",\"1\":\"Zaps the enemy with the power of lightning\",\"2\":\"Drops an icecicle on the enemy from above\",\"3\":\"Conjures shadows to crush foes, inflicting heavy damage.\",\"4\":\"Engulfs enemies in flames, causing widespread damage.\",\"5\":\"Creates a huge explosion using the full power of the user\\'s magic.\"},\"Damage Multiplier\":{\"0\":\"1,10\",\"1\":\"1,05\",\"2\":\"1,10\",\"3\":\"2,00\",\"4\":\"1,50\",\"5\":\"2,50\"},\"Attributes\":{\"0\":\"Fire\",\"1\":\"Lightning\",\"2\":\"Ice\",\"3\":\"Dark\",\"4\":\"Fire\",\"5\":\"Light\"},\"Cost\":{\"0\":5,\"1\":10,\"2\":8,\"3\":30,\"4\":20,\"5\":50}}'}], 'role': 'tool'}, {'content': \"Our abilities are Fireball, Lightning Bolt, Icecicle, Dark Obliteration, Inferno, and Magic Explosion. Each ability has its own damage multiplier, elemental attribute, and mana cost. \\n\\nThe Demon's weaknesses are unknown at the moment, so we should test different abilities to discover its elemental vulnerability. Let's start with Lightning Bolt as it has a decent multiplier and relatively low mana cost.\\n\\nWhat ability should we use next?\", 'role': 'assistant'}, {'content': 'Ok', 'role': 'user'}, {'tool_calls': [{'id': 'call_8HnlnVplZlg27q0xk8HckaAS', 'function': {'arguments': '{\"name\":\"Lightning Bolt\"}', 'name': 'mageAbility'}, 'type': 'function'}], 'content': None, 'role': 'assistant'}, {'content': \"\\nMage's turn:Mage uses Lightning Bolt! Mage deals 26.25 damage to Demon!\\nMonster's turn:Demon attacks! Demon deals 18 damage to Mage!\\nMage's HP: 102/120 | MP: 40/50\\nDemon's HP: 123.75/150\\nWhat will you do?\", 'tool_responses': [{'tool_call_id': 'call_8HnlnVplZlg27q0xk8HckaAS', 'role': 'tool', 'content': \"\\nMage's turn:Mage uses Lightning Bolt! Mage deals 26.25 damage to Demon!\\nMonster's turn:Demon attacks! Demon deals 18 damage to Mage!\\nMage's HP: 102/120 | MP: 40/50\\nDemon's HP: 123.75/150\\nWhat will you do?\"}], 'role': 'tool'}, {'content': \"The Lightning Bolt ability dealt 26.25 damage to the Demon. The Demon's health is now 123.75/150.\\n\\nSince Lightning Bolt was effective, we should continue using it to exploit the Demon's weakness. Let's use Lightning Bolt again.\\n\\nWhat's your next move?\", 'role': 'assistant'}, {'content': 'Ok', 'role': 'user'}, {'tool_calls': [{'id': 'call_lGyErVYtkDfx3uuDPb7Qi10Z', 'function': {'arguments': '{\"name\":\"Lightning Bolt\"}', 'name': 'mageAbility'}, 'type': 'function'}], 'content': None, 'role': 'assistant'}, {'content': \"\\nMage's turn:Mage uses Lightning Bolt! Mage deals 26.25 damage to Demon!\\nMonster's turn:Demon attacks! Demon deals 22 damage to Mage!\\nMage's HP: 80/120 | MP: 30/50\\nDemon's HP: 97.5/150\\nWhat will you do?\", 'tool_responses': [{'tool_call_id': 'call_lGyErVYtkDfx3uuDPb7Qi10Z', 'role': 'tool', 'content': \"\\nMage's turn:Mage uses Lightning Bolt! Mage deals 26.25 damage to Demon!\\nMonster's turn:Demon attacks! Demon deals 22 damage to Mage!\\nMage's HP: 80/120 | MP: 30/50\\nDemon's HP: 97.5/150\\nWhat will you do?\"}], 'role': 'tool'}, {'content': \"The Lightning Bolt ability dealt 26.25 damage to the Demon again, bringing its health down to 97.5/150.\\n\\nWe should keep using Lightning Bolt since it's effective. Let's use it once more.\\n\\nWhat's your decision for the next turn?\", 'role': 'assistant'}, {'content': 'Ok', 'role': 'user'}, {'tool_calls': [{'id': 'call_0iBVx6fwgzAwnKx5EFsm4WGb', 'function': {'arguments': '{\"name\":\"Lightning Bolt\"}', 'name': 'mageAbility'}, 'type': 'function'}], 'content': None, 'role': 'assistant'}, {'content': \"\\nMage's turn:Mage uses Lightning Bolt! Mage deals 30.450000000000003 damage to Demon!\\nMonster's turn:Demon attacks! Demon deals 21 damage to Mage!\\nMage's HP: 59/120 | MP: 20/50\\nDemon's HP: 67.05/150\\nWhat will you do?\", 'tool_responses': [{'tool_call_id': 'call_0iBVx6fwgzAwnKx5EFsm4WGb', 'role': 'tool', 'content': \"\\nMage's turn:Mage uses Lightning Bolt! Mage deals 30.450000000000003 damage to Demon!\\nMonster's turn:Demon attacks! Demon deals 21 damage to Mage!\\nMage's HP: 59/120 | MP: 20/50\\nDemon's HP: 67.05/150\\nWhat will you do?\"}], 'role': 'tool'}, {'content': \"The Lightning Bolt ability dealt 30.45 damage to the Demon, further lowering its health to 67.05/150.\\n\\nSince Lightning Bolt continues to be effective, let's stick with it for the next turn as well.\\n\\nWhat will your next action be?\", 'role': 'assistant'}, {'content': 'Ok', 'role': 'user'}, {'tool_calls': [{'id': 'call_UfK940jvHrbTcwI6zQ1tieI3', 'function': {'arguments': '{\"name\":\"Lightning Bolt\"}', 'name': 'mageAbility'}, 'type': 'function'}], 'content': None, 'role': 'assistant'}, {'content': \"\\nMage's turn:Mage uses Lightning Bolt! Mage deals 22.05 damage to Demon!\\nMonster's turn:Demon attacks! Demon deals 20 damage to Mage!\\nMage's HP: 39/120 | MP: 10/50\\nDemon's HP: 45.0/150\\nWhat will you do?\", 'tool_responses': [{'tool_call_id': 'call_UfK940jvHrbTcwI6zQ1tieI3', 'role': 'tool', 'content': \"\\nMage's turn:Mage uses Lightning Bolt! Mage deals 22.05 damage to Demon!\\nMonster's turn:Demon attacks! Demon deals 20 damage to Mage!\\nMage's HP: 39/120 | MP: 10/50\\nDemon's HP: 45.0/150\\nWhat will you do?\"}], 'role': 'tool'}, {'content': \"The Lightning Bolt ability dealt 22.05 damage to the Demon, reducing its health to 45.0/150.\\n\\nAs Lightning Bolt is still effective, we should continue using it to defeat the Demon. Let's use Lightning Bolt again for the next turn.\\n\\nWhat's your decision for the upcoming action?\", 'role': 'assistant'}, {'content': 'Ok', 'role': 'user'}, {'tool_calls': [{'id': 'call_InhFSyrLwtB5Amvu6sjrEXoz', 'function': {'arguments': '{\"name\":\"Lightning Bolt\"}', 'name': 'mageAbility'}, 'type': 'function'}], 'content': None, 'role': 'assistant'}, {'content': \"\\nMage's turn:Mage uses Lightning Bolt! Mage deals 22.05 damage to Demon!\\nMonster's turn:Demon attacks! Demon deals 18 damage to Mage!\\nMage's HP: 21/120 | MP: 0/50\\nDemon's HP: 22.95/150\\nWhat will you do?\", 'tool_responses': [{'tool_call_id': 'call_InhFSyrLwtB5Amvu6sjrEXoz', 'role': 'tool', 'content': \"\\nMage's turn:Mage uses Lightning Bolt! Mage deals 22.05 damage to Demon!\\nMonster's turn:Demon attacks! Demon deals 18 damage to Mage!\\nMage's HP: 21/120 | MP: 0/50\\nDemon's HP: 22.95/150\\nWhat will you do?\"}], 'role': 'tool'}, {'content': \"The Lightning Bolt ability dealt 22.05 damage to the Demon, bringing its health down to 22.95/150.\\n\\nWe have run out of mana, so we cannot use Lightning Bolt anymore. In this case, let's resort to a basic attack by using the mageAttack function.\\n\\nWhat will be your next action?\", 'role': 'assistant'}, {'content': 'Ok', 'role': 'user'}, {'tool_calls': [{'id': 'call_nXMwixbUb4iMjLlMPExHuqi9', 'function': {'arguments': '{}', 'name': 'mageAttack'}, 'type': 'function'}], 'content': None, 'role': 'assistant'}, {'content': \"\\nMage's turn:Mage attacks! Mage deals 23 damage to Demon!\\nMage's HP: 21/120 | MP: 0/50\\nDemon's HP: 0/150\\n\\nVictory! Mage defeated Demon!\", 'tool_responses': [{'tool_call_id': 'call_nXMwixbUb4iMjLlMPExHuqi9', 'role': 'tool', 'content': \"\\nMage's turn:Mage attacks! Mage deals 23 damage to Demon!\\nMage's HP: 21/120 | MP: 0/50\\nDemon's HP: 0/150\\n\\nVictory! Mage defeated Demon!\"}], 'role': 'tool'}, {'content': 'TERMINATE', 'role': 'assistant'}], summary=\"The Mage defeated a Demon in battle by using the Lightning Bolt ability multiple times. The Demon's weakness was discovered to be vulnerable to lightning-based attacks. The Mage strategically exploited this weakness to defeat the Demon efficiently.\", cost={'usage_including_cached_inference': {'total_cost': 0.011694000000000001, 'gpt-3.5-turbo-0125': {'cost': 0.011694000000000001, 'prompt_tokens': 21762, 'completion_tokens': 542, 'total_tokens': 22304}}, 'usage_excluding_cached_inference': {'total_cost': 0.010068500000000001, 'gpt-3.5-turbo-0125': {'cost': 0.010068500000000001, 'prompt_tokens': 18865, 'completion_tokens': 424, 'total_tokens': 19289}}}, human_input=[]), ChatResult(chat_id=None, chat_history=[{'content': \"Hey warrior, lets discuss the Demon we are fighting and its weaknesses.\\nContext: \\nThe Mage defeated a Demon in battle by using the Lightning Bolt ability multiple times. The Demon's weakness was discovered to be vulnerable to lightning-based attacks. The Mage strategically exploited this weakness to defeat the Demon efficiently.\", 'role': 'assistant'}, {'content': \"That's great to know about the Demon's weakness to lightning-based attacks. Lightning Bolt seems to be a powerful choice against this enemy. Since the Mage was able to defeat the Demon efficiently by repeatedly using Lightning Bolt, we should focus on utilizing that ability. Let's prioritize using Lightning Bolt for maximum damage. If needed, I can also support with other abilities or regular attacks to maintain our offensive strategy. Let's be prepared to exploit the weakness and deal significant damage in our upcoming turns.\", 'role': 'user'}, {'content': \"Understood. I will focus on using Lightning Bolt to exploit the Demon's weakness to lightning-based attacks. I will prioritize this ability to deal maximum damage. If the mana runs low, I will consider using basic attacks to continue the offensive. Let's maintain our strategy and exploit the weakness to defeat the Demon efficiently.\", 'role': 'assistant'}, {'content': \"That sounds like a solid plan. By prioritizing Lightning Bolt and being mindful of mana management, we can maintain a consistent offensive and exploit the Demon's weakness effectively. Remember to adapt our strategy if needed, but let's keep pushing with the lightning-based attacks to secure victory. Let's stay focused and execute our plan to defeat the Demon efficiently.\", 'role': 'user'}], summary=\"The plan is to focus on using Lightning Bolt to exploit the Demon's weakness to lightning-based attacks for maximum damage. Consider basic attacks if mana runs low, but maintain the strategy to defeat the Demon efficiently by prioritizing lightning-based attacks.\", cost={'usage_including_cached_inference': {'total_cost': 0.013650000000000002, 'gpt-3.5-turbo-0125': {'cost': 0.013650000000000002, 'prompt_tokens': 24834, 'completion_tokens': 822, 'total_tokens': 25656}}, 'usage_excluding_cached_inference': {'total_cost': 0.0120245, 'gpt-3.5-turbo-0125': {'cost': 0.0120245, 'prompt_tokens': 21937, 'completion_tokens': 704, 'total_tokens': 22641}}}, human_input=[])]\n",
      "{'attack': 1, 'abilityList': 1, 'ability': 5, 'defend': 0}\n"
     ]
    }
   ],
   "source": [
    "chat_results = mageAgent.initiate_chats(\n",
    "    [\n",
    "        {\n",
    "            \"recipient\": ragproxyagent,\n",
    "            \"message\": b.battlePrint,\n",
    "            \"max_turns\": 30,\n",
    "            \"summary_method\": \"reflection_with_llm\",\n",
    "            \"summary_args\": {\"summary_prompt\" : \"Summarize the monster you fought and the weaknesses you discovered.\"}\n",
    "        },\n",
    "        {\n",
    "            \"recipient\": warriorAgent,\n",
    "            \"context\": \"You are discussing weaknesses. Do not call any functions and do not check your available abilities.\",\n",
    "            \"message\": \"Hey warrior, lets discuss the \" + b.monster.name + \" we are fighting and its weaknesses.\",\n",
    "            \"max_turns\": 2,\n",
    "            \"summary_method\": \"reflection_with_llm\"\n",
    "        },\n",
    "    ]\n",
    ")\n",
    "\n",
    "print(chat_results)\n",
    "print(mageAbilityCounter)"
   ]
  },
  {
   "cell_type": "code",
   "execution_count": null,
   "metadata": {},
   "outputs": [],
   "source": [
    "chat = ragproxyagent.initiate_chat(mageAgent,\n",
    "                                message=b.battlePrint,\n",
    "                                max_turns=20,\n",
    "                                summary_method=\"reflection_with_llm\",\n",
    "                                summary_args={\"summary_prompt\" : \"Summarize the monster you fought and the weaknesses you discovered.\"}\n",
    "                                )\n",
    "\n",
    "print(chat)"
   ]
  },
  {
   "cell_type": "code",
   "execution_count": null,
   "metadata": {},
   "outputs": [],
   "source": [
    "ragproxyagent.initiate_chat(\n",
    "    group_chat_manager,\n",
    "    message=b.battlePrint,\n",
    "    summary_method=\"reflection_with_llm\",\n",
    ")"
   ]
  },
  {
   "cell_type": "code",
   "execution_count": null,
   "metadata": {},
   "outputs": [],
   "source": [
    "warriorAgent.initiate_chat(mageAgent, context=chat.summary, message=\"Hey Mage, do you know about any weaknesses of demons?\", max_turns=4)"
   ]
  },
  {
   "cell_type": "markdown",
   "metadata": {},
   "source": [
    "## OPENAI API"
   ]
  },
  {
   "cell_type": "code",
   "execution_count": null,
   "metadata": {},
   "outputs": [],
   "source": [
    "client = OpenAI(api_key=key)\n",
    "\n",
    "my_assistants = client.beta.assistants.list(\n",
    "    order=\"desc\",\n",
    "    limit=\"20\",\n",
    ")\n",
    "\n",
    "mage = my_assistants.data[0]\n",
    "print(mage)"
   ]
  },
  {
   "cell_type": "code",
   "execution_count": null,
   "metadata": {},
   "outputs": [],
   "source": [
    "#start thread\n",
    "thread = client.beta.threads.create()\n",
    "\n",
    "#intialize moveList used for every turn\n",
    "moveList = []\n",
    "\n",
    "message = client.beta.threads.messages.create(\n",
    "    thread_id=thread.id,\n",
    "    role=\"user\",\n",
    "    content=b.battlePrint\n",
    ")\n",
    "\n",
    "# while not b.is_over:\n",
    "print(\"NEW TURN\")\n",
    "print(b.battlePrint)\n",
    "moveList = []\n",
    "\n",
    "run = client.beta.threads.runs.create(\n",
    "  thread_id=thread.id,\n",
    "  assistant_id=mage.id\n",
    ")\n",
    "\n",
    "  \n",
    "while run.status in ['queued', 'in_progress', 'cancelling']:\n",
    "  time.sleep(1) # Wait for 1 second\n",
    "  run = client.beta.threads.runs.retrieve(\n",
    "    thread_id=thread.id,\n",
    "    run_id=run.id\n",
    "  )\n",
    "\n",
    "if run.status == 'completed': \n",
    "  messages = client.beta.threads.messages.list(\n",
    "    thread_id=thread.id\n",
    "  )\n",
    "  print(messages)\n",
    "else:\n",
    "  print(run)\n",
    "\n",
    "a = json.loads(run.required_action.submit_tool_outputs.tool_calls[0].function.arguments)[\"name\"]\n",
    "print(a, type(a))\n",
    "\n",
    "# message = client.beta.threads.messages.create(\n",
    "#   thread_id=thread.id,\n",
    "#   role=\"user\",\n",
    "#   content=b.battlePrint\n",
    "# )"
   ]
  },
  {
   "cell_type": "markdown",
   "metadata": {},
   "source": [
    "## TESTCODE"
   ]
  },
  {
   "cell_type": "code",
   "execution_count": null,
   "metadata": {},
   "outputs": [],
   "source": [
    "current = b.nextTurn([\"Lightning Bolt\"])\n",
    "print(\"CURRENT\", current)"
   ]
  },
  {
   "cell_type": "code",
   "execution_count": null,
   "metadata": {},
   "outputs": [],
   "source": [
    "b.enterAttack(warrior)"
   ]
  },
  {
   "cell_type": "code",
   "execution_count": null,
   "metadata": {},
   "outputs": [],
   "source": [
    "b.enterAbility(magePlayer, \"Fireball\")"
   ]
  },
  {
   "cell_type": "code",
   "execution_count": null,
   "metadata": {},
   "outputs": [],
   "source": []
  }
 ],
 "metadata": {
  "kernelspec": {
   "display_name": "AgentsAndDragons",
   "language": "python",
   "name": "python3"
  },
  "language_info": {
   "codemirror_mode": {
    "name": "ipython",
    "version": 3
   },
   "file_extension": ".py",
   "mimetype": "text/x-python",
   "name": "python",
   "nbconvert_exporter": "python",
   "pygments_lexer": "ipython3",
   "version": "3.11.8"
  }
 },
 "nbformat": 4,
 "nbformat_minor": 2
}
